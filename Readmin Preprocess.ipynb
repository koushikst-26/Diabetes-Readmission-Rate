{
 "cells": [
  {
   "cell_type": "markdown",
   "id": "5c05693f-0878-4f81-8259-095bf33cc5b4",
   "metadata": {},
   "source": [
    "### Final Project - Data Hawks\n",
    "---"
   ]
  },
  {
   "cell_type": "markdown",
   "id": "011b54d6-5a34-4131-9893-1de741fa2135",
   "metadata": {},
   "source": [
    "#### Team Members:\n",
    "> #### Sai Shishir Ailneni (U38559388)\n",
    "> #### Sai Koushik Thatipamula (U18895638)\n",
    "> #### Deepshikha Sherpally (U57605062)\n",
    "> #### Akshitha Katta (U38519838)\n",
    "> #### Rohith Sahini (U18270323)\n",
    "---"
   ]
  },
  {
   "cell_type": "markdown",
   "id": "9835f1a0-aa0e-4d96-b8cd-1ea6b58630f5",
   "metadata": {},
   "source": [
    "### Notebook : Data Preprocessing\n",
    "---"
   ]
  },
  {
   "cell_type": "markdown",
   "id": "69bee86a-fd0a-499f-8773-0e86d84e100c",
   "metadata": {},
   "source": [
    "#### Notebook Description:\n",
    "This Jupyter Notebook provides a step-by-step guide for preprocessing a dataset. Data preprocessing is a crucial step in preparing data for machine learning and analysis. In this notebook, we will cover the following preprocessing steps:\n",
    "\n",
    "1. **Loading the Dataset**: We will start by loading the raw dataset to be processed.\n",
    "\n",
    "2. **Exploratory Data Analysis (EDA)**: Before preprocessing, we'll perform some initial exploration to understand the dataset's structure and identify potential issues.\n",
    "\n",
    "3. **Handling Missing Data**: We will address missing values in the dataset by either imputing them or removing rows/columns as appropriate.\n",
    "\n",
    "4. **Feature Selection**: We will determine which features are relevant for our analysis and drop any unnecessary or redundant columns.\n",
    "\n",
    "5. **Standardization**: We will scale numerical features to have a mean of 0 and a standard deviation of 1 (standardization). This step ensures that all numerical features have a similar scale.\n",
    "\n",
    "6. **Dummy Encoding**: For categorical features, we will perform one-hot encoding (dummy encoding) to convert them into a numerical format suitable for machine learning algorithms.\n",
    "\n",
    "---"
   ]
  },
  {
   "cell_type": "markdown",
   "id": "75e61117-baae-4018-a923-7a858820d43a",
   "metadata": {},
   "source": [
    "#### Step-1 : Importing Libraries"
   ]
  },
  {
   "cell_type": "markdown",
   "id": "590d02ac-5139-4d29-bff7-8bbc5c8b6c54",
   "metadata": {},
   "source": [
    "> In this Step we Import all the required libraries for data prerprocessing"
   ]
  },
  {
   "cell_type": "code",
   "execution_count": 1,
   "id": "0f2488c1-3834-489a-af8a-e15cacd38e1a",
   "metadata": {
    "tags": []
   },
   "outputs": [],
   "source": [
    "import matplotlib.pyplot as plt\n",
    "import pandas as pd \n",
    "import numpy as np \n",
    "from sklearn.model_selection import train_test_split\n",
    "from sklearn.preprocessing import StandardScaler"
   ]
  },
  {
   "cell_type": "markdown",
   "id": "fae8dc39-4293-48ff-9701-4acda5df6d90",
   "metadata": {},
   "source": [
    "> Setting a seed as to get same results everytime"
   ]
  },
  {
   "cell_type": "code",
   "execution_count": 2,
   "id": "52fcf2ef-0c50-46dc-9060-5b472620b12b",
   "metadata": {
    "tags": []
   },
   "outputs": [],
   "source": [
    "np.random.seed(42)"
   ]
  },
  {
   "cell_type": "markdown",
   "id": "8ebd032b-e3de-4922-b6f2-aa086b5dd12a",
   "metadata": {},
   "source": [
    "#### Step-2: Reading the data"
   ]
  },
  {
   "cell_type": "markdown",
   "id": "6e89aba3-ec7f-411d-83fe-43d8298f5717",
   "metadata": {},
   "source": [
    "> In this step we read the csv data into a pandas dataframe."
   ]
  },
  {
   "cell_type": "code",
   "execution_count": 3,
   "id": "a324a39a-e71e-417c-afcd-f745f8335556",
   "metadata": {
    "tags": []
   },
   "outputs": [
    {
     "name": "stderr",
     "output_type": "stream",
     "text": [
      "C:\\Users\\navee\\AppData\\Local\\Temp\\ipykernel_11248\\1493456993.py:1: DtypeWarning: Columns (10) have mixed types. Specify dtype option on import or set low_memory=False.\n",
      "  df = pd.read_csv(\"diabetic_data.csv\")\n"
     ]
    }
   ],
   "source": [
    "df = pd.read_csv(\"diabetic_data.csv\")"
   ]
  },
  {
   "cell_type": "code",
   "execution_count": 4,
   "id": "1b3f5490-6322-40e1-9235-ea3eef4329cf",
   "metadata": {
    "tags": []
   },
   "outputs": [
    {
     "data": {
      "text/html": [
       "<div>\n",
       "<style scoped>\n",
       "    .dataframe tbody tr th:only-of-type {\n",
       "        vertical-align: middle;\n",
       "    }\n",
       "\n",
       "    .dataframe tbody tr th {\n",
       "        vertical-align: top;\n",
       "    }\n",
       "\n",
       "    .dataframe thead th {\n",
       "        text-align: right;\n",
       "    }\n",
       "</style>\n",
       "<table border=\"1\" class=\"dataframe\">\n",
       "  <thead>\n",
       "    <tr style=\"text-align: right;\">\n",
       "      <th></th>\n",
       "      <th>encounter_id</th>\n",
       "      <th>patient_nbr</th>\n",
       "      <th>race</th>\n",
       "      <th>gender</th>\n",
       "      <th>age</th>\n",
       "      <th>weight</th>\n",
       "      <th>admission_type_id</th>\n",
       "      <th>discharge_disposition_id</th>\n",
       "      <th>admission_source_id</th>\n",
       "      <th>time_in_hospital</th>\n",
       "      <th>...</th>\n",
       "      <th>citoglipton</th>\n",
       "      <th>insulin</th>\n",
       "      <th>glyburide-metformin</th>\n",
       "      <th>glipizide-metformin</th>\n",
       "      <th>glimepiride-pioglitazone</th>\n",
       "      <th>metformin-rosiglitazone</th>\n",
       "      <th>metformin-pioglitazone</th>\n",
       "      <th>change</th>\n",
       "      <th>diabetesMed</th>\n",
       "      <th>readmitted</th>\n",
       "    </tr>\n",
       "  </thead>\n",
       "  <tbody>\n",
       "    <tr>\n",
       "      <th>0</th>\n",
       "      <td>2278392</td>\n",
       "      <td>8222157</td>\n",
       "      <td>Caucasian</td>\n",
       "      <td>Female</td>\n",
       "      <td>[0-10)</td>\n",
       "      <td>NaN</td>\n",
       "      <td>6</td>\n",
       "      <td>25</td>\n",
       "      <td>1</td>\n",
       "      <td>1</td>\n",
       "      <td>...</td>\n",
       "      <td>No</td>\n",
       "      <td>No</td>\n",
       "      <td>No</td>\n",
       "      <td>No</td>\n",
       "      <td>No</td>\n",
       "      <td>No</td>\n",
       "      <td>No</td>\n",
       "      <td>No</td>\n",
       "      <td>No</td>\n",
       "      <td>NO</td>\n",
       "    </tr>\n",
       "    <tr>\n",
       "      <th>1</th>\n",
       "      <td>149190</td>\n",
       "      <td>55629189</td>\n",
       "      <td>Caucasian</td>\n",
       "      <td>Female</td>\n",
       "      <td>[10-20)</td>\n",
       "      <td>NaN</td>\n",
       "      <td>1</td>\n",
       "      <td>1</td>\n",
       "      <td>7</td>\n",
       "      <td>3</td>\n",
       "      <td>...</td>\n",
       "      <td>No</td>\n",
       "      <td>Up</td>\n",
       "      <td>No</td>\n",
       "      <td>No</td>\n",
       "      <td>No</td>\n",
       "      <td>No</td>\n",
       "      <td>No</td>\n",
       "      <td>Ch</td>\n",
       "      <td>Yes</td>\n",
       "      <td>&gt;30</td>\n",
       "    </tr>\n",
       "    <tr>\n",
       "      <th>2</th>\n",
       "      <td>64410</td>\n",
       "      <td>86047875</td>\n",
       "      <td>AfricanAmerican</td>\n",
       "      <td>Female</td>\n",
       "      <td>[20-30)</td>\n",
       "      <td>NaN</td>\n",
       "      <td>1</td>\n",
       "      <td>1</td>\n",
       "      <td>7</td>\n",
       "      <td>2</td>\n",
       "      <td>...</td>\n",
       "      <td>No</td>\n",
       "      <td>No</td>\n",
       "      <td>No</td>\n",
       "      <td>No</td>\n",
       "      <td>No</td>\n",
       "      <td>No</td>\n",
       "      <td>No</td>\n",
       "      <td>No</td>\n",
       "      <td>Yes</td>\n",
       "      <td>NO</td>\n",
       "    </tr>\n",
       "    <tr>\n",
       "      <th>3</th>\n",
       "      <td>500364</td>\n",
       "      <td>82442376</td>\n",
       "      <td>Caucasian</td>\n",
       "      <td>Male</td>\n",
       "      <td>[30-40)</td>\n",
       "      <td>NaN</td>\n",
       "      <td>1</td>\n",
       "      <td>1</td>\n",
       "      <td>7</td>\n",
       "      <td>2</td>\n",
       "      <td>...</td>\n",
       "      <td>No</td>\n",
       "      <td>Up</td>\n",
       "      <td>No</td>\n",
       "      <td>No</td>\n",
       "      <td>No</td>\n",
       "      <td>No</td>\n",
       "      <td>No</td>\n",
       "      <td>Ch</td>\n",
       "      <td>Yes</td>\n",
       "      <td>NO</td>\n",
       "    </tr>\n",
       "    <tr>\n",
       "      <th>4</th>\n",
       "      <td>16680</td>\n",
       "      <td>42519267</td>\n",
       "      <td>Caucasian</td>\n",
       "      <td>Male</td>\n",
       "      <td>[40-50)</td>\n",
       "      <td>NaN</td>\n",
       "      <td>1</td>\n",
       "      <td>1</td>\n",
       "      <td>7</td>\n",
       "      <td>1</td>\n",
       "      <td>...</td>\n",
       "      <td>No</td>\n",
       "      <td>Steady</td>\n",
       "      <td>No</td>\n",
       "      <td>No</td>\n",
       "      <td>No</td>\n",
       "      <td>No</td>\n",
       "      <td>No</td>\n",
       "      <td>Ch</td>\n",
       "      <td>Yes</td>\n",
       "      <td>NO</td>\n",
       "    </tr>\n",
       "  </tbody>\n",
       "</table>\n",
       "<p>5 rows × 50 columns</p>\n",
       "</div>"
      ],
      "text/plain": [
       "   encounter_id  patient_nbr             race  gender      age weight  \\\n",
       "0       2278392      8222157        Caucasian  Female   [0-10)    NaN   \n",
       "1        149190     55629189        Caucasian  Female  [10-20)    NaN   \n",
       "2         64410     86047875  AfricanAmerican  Female  [20-30)    NaN   \n",
       "3        500364     82442376        Caucasian    Male  [30-40)    NaN   \n",
       "4         16680     42519267        Caucasian    Male  [40-50)    NaN   \n",
       "\n",
       "   admission_type_id  discharge_disposition_id  admission_source_id  \\\n",
       "0                  6                        25                    1   \n",
       "1                  1                         1                    7   \n",
       "2                  1                         1                    7   \n",
       "3                  1                         1                    7   \n",
       "4                  1                         1                    7   \n",
       "\n",
       "   time_in_hospital  ... citoglipton insulin  glyburide-metformin  \\\n",
       "0                 1  ...          No      No                   No   \n",
       "1                 3  ...          No      Up                   No   \n",
       "2                 2  ...          No      No                   No   \n",
       "3                 2  ...          No      Up                   No   \n",
       "4                 1  ...          No  Steady                   No   \n",
       "\n",
       "   glipizide-metformin  glimepiride-pioglitazone  metformin-rosiglitazone  \\\n",
       "0                   No                        No                       No   \n",
       "1                   No                        No                       No   \n",
       "2                   No                        No                       No   \n",
       "3                   No                        No                       No   \n",
       "4                   No                        No                       No   \n",
       "\n",
       "   metformin-pioglitazone  change diabetesMed readmitted  \n",
       "0                      No      No          No         NO  \n",
       "1                      No      Ch         Yes        >30  \n",
       "2                      No      No         Yes         NO  \n",
       "3                      No      Ch         Yes         NO  \n",
       "4                      No      Ch         Yes         NO  \n",
       "\n",
       "[5 rows x 50 columns]"
      ]
     },
     "execution_count": 4,
     "metadata": {},
     "output_type": "execute_result"
    }
   ],
   "source": [
    "df.head()"
   ]
  },
  {
   "cell_type": "markdown",
   "id": "8c0c23e5-80c2-427b-86a5-0bb29c095669",
   "metadata": {},
   "source": [
    "#### Step-3: Exploratory Data Analytics (EDA)"
   ]
  },
  {
   "cell_type": "markdown",
   "id": "34f216af-39ec-401a-8c37-46b2040bbe45",
   "metadata": {},
   "source": [
    ">In this step we'll perform some initial exploration to understand the dataset's structure and identify potential issues."
   ]
  },
  {
   "cell_type": "code",
   "execution_count": 5,
   "id": "cdc4c9f8-21a1-448b-b7c8-d80037bdb575",
   "metadata": {
    "tags": []
   },
   "outputs": [
    {
     "data": {
      "text/plain": [
       "(101766, 50)"
      ]
     },
     "execution_count": 5,
     "metadata": {},
     "output_type": "execute_result"
    }
   ],
   "source": [
    "df.shape"
   ]
  },
  {
   "cell_type": "markdown",
   "id": "beb68af3-1f99-47a5-92e9-e545143a124a",
   "metadata": {},
   "source": [
    "We have 101,766 observations and 50 Features"
   ]
  },
  {
   "cell_type": "markdown",
   "id": "7e831975-0964-4954-ad94-e1787688b52f",
   "metadata": {},
   "source": [
    "---"
   ]
  },
  {
   "cell_type": "markdown",
   "id": "b20af5ea-6580-4274-a86e-e16a7c2aad0b",
   "metadata": {},
   "source": [
    "##### 3.1 - Checking for a null values in the features"
   ]
  },
  {
   "cell_type": "code",
   "execution_count": 6,
   "id": "079815ab-5dfb-4003-87ed-668e214e5522",
   "metadata": {
    "tags": []
   },
   "outputs": [
    {
     "data": {
      "text/plain": [
       "encounter_id                    0\n",
       "patient_nbr                     0\n",
       "race                         2273\n",
       "gender                          0\n",
       "age                             0\n",
       "weight                      98569\n",
       "admission_type_id               0\n",
       "discharge_disposition_id        0\n",
       "admission_source_id             0\n",
       "time_in_hospital                0\n",
       "payer_code                  40256\n",
       "medical_specialty           49949\n",
       "num_lab_procedures              0\n",
       "num_procedures                  0\n",
       "num_medications                 0\n",
       "number_outpatient               0\n",
       "number_emergency                0\n",
       "number_inpatient                0\n",
       "diag_1                         21\n",
       "diag_2                        358\n",
       "diag_3                       1423\n",
       "number_diagnoses                0\n",
       "max_glu_serum                   0\n",
       "A1Cresult                       0\n",
       "metformin                       0\n",
       "repaglinide                     0\n",
       "nateglinide                     0\n",
       "chlorpropamide                  0\n",
       "glimepiride                     0\n",
       "acetohexamide                   0\n",
       "glipizide                       0\n",
       "glyburide                       0\n",
       "tolbutamide                     0\n",
       "pioglitazone                    0\n",
       "rosiglitazone                   0\n",
       "acarbose                        0\n",
       "miglitol                        0\n",
       "troglitazone                    0\n",
       "tolazamide                      0\n",
       "examide                         0\n",
       "citoglipton                     0\n",
       "insulin                         0\n",
       "glyburide-metformin             0\n",
       "glipizide-metformin             0\n",
       "glimepiride-pioglitazone        0\n",
       "metformin-rosiglitazone         0\n",
       "metformin-pioglitazone          0\n",
       "change                          0\n",
       "diabetesMed                     0\n",
       "readmitted                      0\n",
       "dtype: int64"
      ]
     },
     "execution_count": 6,
     "metadata": {},
     "output_type": "execute_result"
    }
   ],
   "source": [
    "df.isna().sum()"
   ]
  },
  {
   "cell_type": "markdown",
   "id": "241e81ad-a990-4a4e-80da-9654b9970d47",
   "metadata": {},
   "source": [
    "We see that there are some significant number of null values in some features, Weight, Payer_code and medical_speciality."
   ]
  },
  {
   "cell_type": "markdown",
   "id": "badcbef8-78c1-4bd0-91c6-b48766281f43",
   "metadata": {},
   "source": [
    "---"
   ]
  },
  {
   "cell_type": "markdown",
   "id": "4b5acc20-cfbe-4a86-b791-ec7850ac0c1d",
   "metadata": {},
   "source": [
    "##### 3.2 Checking for data types and info of features"
   ]
  },
  {
   "cell_type": "code",
   "execution_count": 7,
   "id": "e4f067d1-4522-416d-aaa4-deb41401c44b",
   "metadata": {
    "tags": []
   },
   "outputs": [
    {
     "name": "stdout",
     "output_type": "stream",
     "text": [
      "<class 'pandas.core.frame.DataFrame'>\n",
      "RangeIndex: 101766 entries, 0 to 101765\n",
      "Data columns (total 50 columns):\n",
      " #   Column                    Non-Null Count   Dtype \n",
      "---  ------                    --------------   ----- \n",
      " 0   encounter_id              101766 non-null  int64 \n",
      " 1   patient_nbr               101766 non-null  int64 \n",
      " 2   race                      99493 non-null   object\n",
      " 3   gender                    101766 non-null  object\n",
      " 4   age                       101766 non-null  object\n",
      " 5   weight                    3197 non-null    object\n",
      " 6   admission_type_id         101766 non-null  int64 \n",
      " 7   discharge_disposition_id  101766 non-null  int64 \n",
      " 8   admission_source_id       101766 non-null  int64 \n",
      " 9   time_in_hospital          101766 non-null  int64 \n",
      " 10  payer_code                61510 non-null   object\n",
      " 11  medical_specialty         51817 non-null   object\n",
      " 12  num_lab_procedures        101766 non-null  int64 \n",
      " 13  num_procedures            101766 non-null  int64 \n",
      " 14  num_medications           101766 non-null  int64 \n",
      " 15  number_outpatient         101766 non-null  int64 \n",
      " 16  number_emergency          101766 non-null  int64 \n",
      " 17  number_inpatient          101766 non-null  int64 \n",
      " 18  diag_1                    101745 non-null  object\n",
      " 19  diag_2                    101408 non-null  object\n",
      " 20  diag_3                    100343 non-null  object\n",
      " 21  number_diagnoses          101766 non-null  int64 \n",
      " 22  max_glu_serum             101766 non-null  object\n",
      " 23  A1Cresult                 101766 non-null  object\n",
      " 24  metformin                 101766 non-null  object\n",
      " 25  repaglinide               101766 non-null  object\n",
      " 26  nateglinide               101766 non-null  object\n",
      " 27  chlorpropamide            101766 non-null  object\n",
      " 28  glimepiride               101766 non-null  object\n",
      " 29  acetohexamide             101766 non-null  object\n",
      " 30  glipizide                 101766 non-null  object\n",
      " 31  glyburide                 101766 non-null  object\n",
      " 32  tolbutamide               101766 non-null  object\n",
      " 33  pioglitazone              101766 non-null  object\n",
      " 34  rosiglitazone             101766 non-null  object\n",
      " 35  acarbose                  101766 non-null  object\n",
      " 36  miglitol                  101766 non-null  object\n",
      " 37  troglitazone              101766 non-null  object\n",
      " 38  tolazamide                101766 non-null  object\n",
      " 39  examide                   101766 non-null  object\n",
      " 40  citoglipton               101766 non-null  object\n",
      " 41  insulin                   101766 non-null  object\n",
      " 42  glyburide-metformin       101766 non-null  object\n",
      " 43  glipizide-metformin       101766 non-null  object\n",
      " 44  glimepiride-pioglitazone  101766 non-null  object\n",
      " 45  metformin-rosiglitazone   101766 non-null  object\n",
      " 46  metformin-pioglitazone    101766 non-null  object\n",
      " 47  change                    101766 non-null  object\n",
      " 48  diabetesMed               101766 non-null  object\n",
      " 49  readmitted                101766 non-null  object\n",
      "dtypes: int64(13), object(37)\n",
      "memory usage: 38.8+ MB\n"
     ]
    }
   ],
   "source": [
    "df.info()"
   ]
  },
  {
   "cell_type": "markdown",
   "id": "969898a7-5431-42a2-9da4-c1a7a756513a",
   "metadata": {},
   "source": [
    "As we observe most of the features in the data are objects(Categorical), and there are very few numerical variables."
   ]
  },
  {
   "cell_type": "markdown",
   "id": "de17ea49-0562-4633-a83a-064944f059db",
   "metadata": {},
   "source": [
    "---"
   ]
  },
  {
   "cell_type": "markdown",
   "id": "177bacdc-de4c-4bd6-87be-feddf5dcbab8",
   "metadata": {},
   "source": [
    "##### 3.3 Feature Engineering"
   ]
  },
  {
   "cell_type": "markdown",
   "id": "39645681-d772-4daf-8205-7af5c8d9b96f",
   "metadata": {},
   "source": [
    "> We check for the distribution of the target variable"
   ]
  },
  {
   "cell_type": "code",
   "execution_count": 8,
   "id": "00edc3cb-0931-45d1-9906-2d77457e4e33",
   "metadata": {
    "tags": []
   },
   "outputs": [
    {
     "data": {
      "text/plain": [
       "NO     54864\n",
       ">30    35545\n",
       "<30    11357\n",
       "Name: readmitted, dtype: int64"
      ]
     },
     "execution_count": 8,
     "metadata": {},
     "output_type": "execute_result"
    }
   ],
   "source": [
    "df[\"readmitted\"].value_counts()"
   ]
  },
  {
   "cell_type": "markdown",
   "id": "58ff6d31-7cc0-45c1-ad02-7ba5af6a0a44",
   "metadata": {},
   "source": [
    "- we impute the our target variable in the following way.\n",
    "> '<30' as 1 and anything else as 0\n",
    "- This is because we would like to predict the early readmission rate and so we consider '>30' and 'NO' as not \"early readmission\""
   ]
  },
  {
   "cell_type": "code",
   "execution_count": 9,
   "id": "6d5e0e2a-b820-4ec4-b9db-e82f1a849e3f",
   "metadata": {
    "tags": []
   },
   "outputs": [],
   "source": [
    "def map_readmitted(value):\n",
    "    if value == '<30':\n",
    "        return 1\n",
    "    else:\n",
    "        return 0"
   ]
  },
  {
   "cell_type": "code",
   "execution_count": 10,
   "id": "b3f3c7ab-b24e-4e4c-bbbe-091b61a44445",
   "metadata": {
    "tags": []
   },
   "outputs": [],
   "source": [
    "df[\"readmitted\"] = df[\"readmitted\"].apply(map_readmitted)"
   ]
  },
  {
   "cell_type": "code",
   "execution_count": 11,
   "id": "7520a314-840e-443e-a376-533bd813cd50",
   "metadata": {
    "tags": []
   },
   "outputs": [
    {
     "data": {
      "text/plain": [
       "0    90409\n",
       "1    11357\n",
       "Name: readmitted, dtype: int64"
      ]
     },
     "execution_count": 11,
     "metadata": {},
     "output_type": "execute_result"
    }
   ],
   "source": [
    "df[\"readmitted\"].value_counts()"
   ]
  },
  {
   "cell_type": "markdown",
   "id": "c80ae1dd-9d55-4064-926a-4e8652479b37",
   "metadata": {},
   "source": [
    "> As we see there is a lot of imbalance in the data."
   ]
  },
  {
   "cell_type": "code",
   "execution_count": 12,
   "id": "eb134c56-c7cc-4fd0-aabb-bd23f86efec7",
   "metadata": {},
   "outputs": [
    {
     "data": {
      "text/plain": [
       "Index(['encounter_id', 'patient_nbr', 'race', 'gender', 'age', 'weight',\n",
       "       'admission_type_id', 'discharge_disposition_id', 'admission_source_id',\n",
       "       'time_in_hospital', 'payer_code', 'medical_specialty',\n",
       "       'num_lab_procedures', 'num_procedures', 'num_medications',\n",
       "       'number_outpatient', 'number_emergency', 'number_inpatient', 'diag_1',\n",
       "       'diag_2', 'diag_3', 'number_diagnoses', 'max_glu_serum', 'A1Cresult',\n",
       "       'metformin', 'repaglinide', 'nateglinide', 'chlorpropamide',\n",
       "       'glimepiride', 'acetohexamide', 'glipizide', 'glyburide', 'tolbutamide',\n",
       "       'pioglitazone', 'rosiglitazone', 'acarbose', 'miglitol', 'troglitazone',\n",
       "       'tolazamide', 'examide', 'citoglipton', 'insulin',\n",
       "       'glyburide-metformin', 'glipizide-metformin',\n",
       "       'glimepiride-pioglitazone', 'metformin-rosiglitazone',\n",
       "       'metformin-pioglitazone', 'change', 'diabetesMed', 'readmitted'],\n",
       "      dtype='object')"
      ]
     },
     "execution_count": 12,
     "metadata": {},
     "output_type": "execute_result"
    }
   ],
   "source": [
    "df.columns"
   ]
  },
  {
   "cell_type": "code",
   "execution_count": 13,
   "id": "49454a1e-fac3-4af9-af7d-9d1b90c44414",
   "metadata": {
    "tags": []
   },
   "outputs": [],
   "source": [
    "pd.set_option(\"display.max_rows\", None)"
   ]
  },
  {
   "cell_type": "markdown",
   "id": "39cbbe1a-ab7f-46c1-99bc-58f8eb557137",
   "metadata": {},
   "source": [
    "- In the dataset, we have both encounter_id and patient_nbr. patient_nbr is a unique id given to each patient where as encounter_id is an id generated everytime a patient visits the hospital.\n",
    "\n",
    "- So there might be duplicate values in patient_nbr as each person might visit the hospital multiple times. \n",
    "\n",
    "- Hence we remove the duplicate rows for the same patient."
   ]
  },
  {
   "cell_type": "code",
   "execution_count": 14,
   "id": "caf64fe1-1539-49c6-a098-b672dcbb9608",
   "metadata": {
    "tags": []
   },
   "outputs": [],
   "source": [
    "df = df.drop_duplicates(subset=['patient_nbr'])"
   ]
  },
  {
   "cell_type": "code",
   "execution_count": 15,
   "id": "14a64dba-2e78-4d9b-88ec-baed754a3779",
   "metadata": {
    "tags": []
   },
   "outputs": [
    {
     "data": {
      "text/plain": [
       "(71518, 50)"
      ]
     },
     "execution_count": 15,
     "metadata": {},
     "output_type": "execute_result"
    }
   ],
   "source": [
    "df.shape"
   ]
  },
  {
   "cell_type": "markdown",
   "id": "d32c0e27-6a07-41d5-8606-e61992b1abce",
   "metadata": {},
   "source": [
    "> After removing the duplicates from patient_nbr we see that there are 71,518 unique patient data available."
   ]
  },
  {
   "cell_type": "markdown",
   "id": "b8536e07-7fdd-423c-a6f7-5014e921b2eb",
   "metadata": {},
   "source": [
    "---"
   ]
  },
  {
   "cell_type": "markdown",
   "id": "c6a96ca7-ca65-4ef3-88cc-50af9b8b82aa",
   "metadata": {},
   "source": [
    "- As seen the section 3.1 there are a lot of null values in these columns, hence we drop them."
   ]
  },
  {
   "cell_type": "code",
   "execution_count": 16,
   "id": "16343143-e58e-4770-aaee-21594076e2ed",
   "metadata": {
    "tags": []
   },
   "outputs": [],
   "source": [
    "columns_to_drop = ['weight','payer_code','medical_specialty']"
   ]
  },
  {
   "cell_type": "code",
   "execution_count": 17,
   "id": "0e829b40-dcdb-410e-a259-32e3a263adee",
   "metadata": {
    "tags": []
   },
   "outputs": [],
   "source": [
    "# Weight, payer_code and medical_speciality has more than 50% null values so we drop them\n",
    "\n",
    "df = df.drop(columns_to_drop,axis = 1)"
   ]
  },
  {
   "cell_type": "code",
   "execution_count": 18,
   "id": "6dbf3e2b-cf67-4f11-a386-55c7e3aa3734",
   "metadata": {
    "tags": []
   },
   "outputs": [
    {
     "data": {
      "text/plain": [
       "Index(['encounter_id', 'patient_nbr', 'race', 'gender', 'age',\n",
       "       'admission_type_id', 'discharge_disposition_id', 'admission_source_id',\n",
       "       'time_in_hospital', 'num_lab_procedures', 'num_procedures',\n",
       "       'num_medications', 'number_outpatient', 'number_emergency',\n",
       "       'number_inpatient', 'diag_1', 'diag_2', 'diag_3', 'number_diagnoses',\n",
       "       'max_glu_serum', 'A1Cresult', 'metformin', 'repaglinide', 'nateglinide',\n",
       "       'chlorpropamide', 'glimepiride', 'acetohexamide', 'glipizide',\n",
       "       'glyburide', 'tolbutamide', 'pioglitazone', 'rosiglitazone', 'acarbose',\n",
       "       'miglitol', 'troglitazone', 'tolazamide', 'examide', 'citoglipton',\n",
       "       'insulin', 'glyburide-metformin', 'glipizide-metformin',\n",
       "       'glimepiride-pioglitazone', 'metformin-rosiglitazone',\n",
       "       'metformin-pioglitazone', 'change', 'diabetesMed', 'readmitted'],\n",
       "      dtype='object')"
      ]
     },
     "execution_count": 18,
     "metadata": {},
     "output_type": "execute_result"
    }
   ],
   "source": [
    "df.columns"
   ]
  },
  {
   "cell_type": "markdown",
   "id": "9b19e98a-c054-4a3e-bb0a-8c56fc1c26c6",
   "metadata": {},
   "source": [
    "---"
   ]
  },
  {
   "cell_type": "markdown",
   "id": "6645858a-85c5-44e7-aa6a-f0a059adc716",
   "metadata": {},
   "source": [
    "**Feature**: age"
   ]
  },
  {
   "cell_type": "code",
   "execution_count": 19,
   "id": "43c7e400-a317-4c11-a3ca-60528f5b8129",
   "metadata": {
    "tags": []
   },
   "outputs": [
    {
     "data": {
      "text/plain": [
       "[70-80)     18210\n",
       "[60-70)     15960\n",
       "[50-60)     12466\n",
       "[80-90)     11589\n",
       "[40-50)      6878\n",
       "[30-40)      2699\n",
       "[90-100)     1900\n",
       "[20-30)      1127\n",
       "[10-20)       535\n",
       "[0-10)        154\n",
       "Name: age, dtype: int64"
      ]
     },
     "execution_count": 19,
     "metadata": {},
     "output_type": "execute_result"
    }
   ],
   "source": [
    "df['age'].value_counts()"
   ]
  },
  {
   "cell_type": "markdown",
   "id": "b50465b5-4fb8-460c-a32c-c71084443f85",
   "metadata": {},
   "source": [
    "- For age we create it as an ordinal feature\n",
    "- We Impute the age in the following way.\n",
    "- (0-10) & (10-20) as 0\n",
    "- (20-30) & (30-40) as 1\n",
    "- (40-50) & (50-60) as 2\n",
    "- (60-70) & (70-80) as 3\n",
    "- (80-90) & (90-100) as 4"
   ]
  },
  {
   "cell_type": "code",
   "execution_count": 20,
   "id": "08db0372-081d-47a5-9738-a4ca9ea2d71c",
   "metadata": {
    "tags": []
   },
   "outputs": [],
   "source": [
    "def map_age_to_numeric(age_group):\n",
    "    if age_group in ('[0-10)', '[10-20)'):\n",
    "        return 0\n",
    "    elif age_group in ('[20-30)', '[30-40)'):\n",
    "        return 1\n",
    "    elif age_group in ('[40-50)', '[50-60)'):\n",
    "        return 2\n",
    "    elif age_group in ('[60-70)', '[70-80)'):\n",
    "        return 3\n",
    "    elif age_group in ('[80-90)', '[90-100)'):\n",
    "        return 4\n",
    "    else:\n",
    "        return age_group"
   ]
  },
  {
   "cell_type": "code",
   "execution_count": 21,
   "id": "f3bd2ef5-acca-4ad2-aa65-888882ee899f",
   "metadata": {
    "tags": []
   },
   "outputs": [],
   "source": [
    "df['age'] = df['age'].apply(map_age_to_numeric)"
   ]
  },
  {
   "cell_type": "code",
   "execution_count": 22,
   "id": "487b2a20-80c3-4e86-b6f9-86550aa13085",
   "metadata": {
    "tags": []
   },
   "outputs": [
    {
     "data": {
      "text/plain": [
       "3    34170\n",
       "2    19344\n",
       "4    13489\n",
       "1     3826\n",
       "0      689\n",
       "Name: age, dtype: int64"
      ]
     },
     "execution_count": 22,
     "metadata": {},
     "output_type": "execute_result"
    }
   ],
   "source": [
    "df['age'].value_counts()"
   ]
  },
  {
   "cell_type": "markdown",
   "id": "d364c322-c2bd-4b34-88c7-45fc67859e63",
   "metadata": {},
   "source": [
    "---"
   ]
  },
  {
   "cell_type": "markdown",
   "id": "77c6daeb-abc9-4d90-8403-1824e7669ff8",
   "metadata": {},
   "source": [
    "**Feature**: admission_type_id"
   ]
  },
  {
   "cell_type": "code",
   "execution_count": 23,
   "id": "35b14ce7-33be-458f-9095-266a34c8f2d7",
   "metadata": {
    "tags": []
   },
   "outputs": [
    {
     "data": {
      "text/plain": [
       "1    36490\n",
       "3    13917\n",
       "2    13028\n",
       "6     4588\n",
       "5     3174\n",
       "8      291\n",
       "7       21\n",
       "4        9\n",
       "Name: admission_type_id, dtype: int64"
      ]
     },
     "execution_count": 23,
     "metadata": {},
     "output_type": "execute_result"
    }
   ],
   "source": [
    "df['admission_type_id'].value_counts()"
   ]
  },
  {
   "cell_type": "markdown",
   "id": "b0634728-3704-4764-a77e-573a6ec19c96",
   "metadata": {},
   "source": [
    "- admission type id is Integer identifier corresponding to 9 distinct values, for example, emergency, urgent, elective, newborn, and not available.\n",
    "- We impute the admission type id in the following way\n",
    "- 1 or 2 as Emergency\n",
    "- 3 as Elective\n",
    "- 4 as New Born\n",
    "- 7 as Trauma Center\n",
    "- anything else as other\n",
    "- The source for the above information is : https://www.cms.gov/regulations-and-guidance/guidance/transmittals/downloads/r1775cp.pdf"
   ]
  },
  {
   "cell_type": "code",
   "execution_count": 24,
   "id": "84b191bd-2cba-4a0a-b869-45d4ef630e0c",
   "metadata": {
    "tags": []
   },
   "outputs": [],
   "source": [
    "def map_admission_type(admission_type_id):\n",
    "    if admission_type_id == 1.0 or admission_type_id == 2.0:\n",
    "        return \"Emergency\"\n",
    "    elif admission_type_id == 3.0:\n",
    "        return \"Elective\"\n",
    "    elif admission_type_id == 4.0:\n",
    "        return \"New_Born\"\n",
    "    elif admission_type_id == 7.0:\n",
    "        return \"Trauma_Center\"\n",
    "    else:\n",
    "        return \"Other\""
   ]
  },
  {
   "cell_type": "code",
   "execution_count": 25,
   "id": "0db431d3-7605-41c3-be85-6e2e34ada96c",
   "metadata": {
    "tags": []
   },
   "outputs": [],
   "source": [
    "df['admission_type_id'] = df['admission_type_id'].apply(map_admission_type)"
   ]
  },
  {
   "cell_type": "code",
   "execution_count": 26,
   "id": "c76cb786-08af-4619-9680-3a3d7305b299",
   "metadata": {
    "tags": []
   },
   "outputs": [
    {
     "data": {
      "text/plain": [
       "Emergency        49518\n",
       "Elective         13917\n",
       "Other             8053\n",
       "Trauma_Center       21\n",
       "New_Born             9\n",
       "Name: admission_type_id, dtype: int64"
      ]
     },
     "execution_count": 26,
     "metadata": {},
     "output_type": "execute_result"
    }
   ],
   "source": [
    "df['admission_type_id'].value_counts()"
   ]
  },
  {
   "cell_type": "markdown",
   "id": "0b197c88-4ec3-4afb-afdc-2be033f87311",
   "metadata": {},
   "source": [
    "> Since there are very less values for both trauma center and new born we drop the rows which have these values."
   ]
  },
  {
   "cell_type": "code",
   "execution_count": 27,
   "id": "20decd42-671c-44bd-96ad-38ee0618f018",
   "metadata": {
    "tags": []
   },
   "outputs": [],
   "source": [
    "values_to_drop = ['Trauma_Center', 'New_Born']"
   ]
  },
  {
   "cell_type": "code",
   "execution_count": 28,
   "id": "6b922dc6-6ffa-4c20-b87e-7cad14feed4f",
   "metadata": {
    "tags": []
   },
   "outputs": [],
   "source": [
    "df = df[~df['admission_type_id'].isin(values_to_drop)]"
   ]
  },
  {
   "cell_type": "code",
   "execution_count": 29,
   "id": "e715aec3-cf48-47d0-80da-2ffb53038ad7",
   "metadata": {
    "tags": []
   },
   "outputs": [
    {
     "data": {
      "text/plain": [
       "Emergency    49518\n",
       "Elective     13917\n",
       "Other         8053\n",
       "Name: admission_type_id, dtype: int64"
      ]
     },
     "execution_count": 29,
     "metadata": {},
     "output_type": "execute_result"
    }
   ],
   "source": [
    "df['admission_type_id'].value_counts()"
   ]
  },
  {
   "cell_type": "markdown",
   "id": "c466dbc7-601a-4e5c-b02e-101d00750872",
   "metadata": {},
   "source": [
    "---"
   ]
  },
  {
   "cell_type": "markdown",
   "id": "74df82f0-c62a-41c9-8efe-5db392632a2d",
   "metadata": {},
   "source": [
    "**Feature** : discharge_disposition_id"
   ]
  },
  {
   "cell_type": "code",
   "execution_count": 30,
   "id": "1cd4cdd2-ecf0-4296-96ae-1b94a901b9a0",
   "metadata": {
    "tags": []
   },
   "outputs": [
    {
     "data": {
      "text/plain": [
       "1     44307\n",
       "3      8778\n",
       "6      8282\n",
       "18     2474\n",
       "2      1538\n",
       "22     1407\n",
       "11     1074\n",
       "5       913\n",
       "25      778\n",
       "4       541\n",
       "7       409\n",
       "23      260\n",
       "13      243\n",
       "14      218\n",
       "28       90\n",
       "8        73\n",
       "15       40\n",
       "24       25\n",
       "9         9\n",
       "17        8\n",
       "10        6\n",
       "19        6\n",
       "27        3\n",
       "16        3\n",
       "12        2\n",
       "20        1\n",
       "Name: discharge_disposition_id, dtype: int64"
      ]
     },
     "execution_count": 30,
     "metadata": {},
     "output_type": "execute_result"
    }
   ],
   "source": [
    "df['discharge_disposition_id'].value_counts()"
   ]
  },
  {
   "cell_type": "markdown",
   "id": "85ffd5a7-07bc-4a04-bcf0-f07eddbee72f",
   "metadata": {},
   "source": [
    "- Discharge disposition id is Integer identifier corresponding to 29 distinct values, for example, discharged to home, expired, and not available\n",
    "- So we Impute the values into three ways, \"Discharged to home\" , \"other\" or we put it as null value so we can impute it using SimpleImputer().\n",
    "- Source for the information is https://med.noridianmedicare.com/web/jfa/topics/claim-submission/patient-discharge-status-codes"
   ]
  },
  {
   "cell_type": "code",
   "execution_count": 31,
   "id": "733500d9-c207-41ea-8603-0a1da511ad53",
   "metadata": {
    "tags": []
   },
   "outputs": [],
   "source": [
    "def map_discharge_disposition_id(discharge_id):\n",
    "    if discharge_id in [1, 6, 8, 13, 19]:\n",
    "        return \"Discharged to Home\"\n",
    "    elif discharge_id in [2, 3, 4, 5, 7, 9, 10, 11, 12, 14, 15, 16, 17, 20, 21, 22, 23, 24, 27, 28, 29]:\n",
    "        return \"Other\"\n",
    "    else:\n",
    "        return np.nan"
   ]
  },
  {
   "cell_type": "code",
   "execution_count": 32,
   "id": "51a4d246-752e-4739-a1cf-dcc1a2cbe327",
   "metadata": {
    "tags": []
   },
   "outputs": [],
   "source": [
    "df['discharge_disposition_id'] = df['discharge_disposition_id'].apply(map_discharge_disposition_id)"
   ]
  },
  {
   "cell_type": "code",
   "execution_count": 33,
   "id": "a9ac0ac9-307c-47b4-8ab8-90175b4ad2ec",
   "metadata": {
    "tags": []
   },
   "outputs": [
    {
     "data": {
      "text/plain": [
       "Discharged to Home    52911\n",
       "Other                 15325\n",
       "Name: discharge_disposition_id, dtype: int64"
      ]
     },
     "execution_count": 33,
     "metadata": {},
     "output_type": "execute_result"
    }
   ],
   "source": [
    "df['discharge_disposition_id'].value_counts()"
   ]
  },
  {
   "cell_type": "markdown",
   "id": "b452dedb-48b7-42e5-8d9d-33b7bab61841",
   "metadata": {},
   "source": [
    "---"
   ]
  },
  {
   "cell_type": "markdown",
   "id": "061761d0-3941-4a0f-857a-80e5cbe1b7b4",
   "metadata": {},
   "source": [
    "- **Feature** : admission_source_id"
   ]
  },
  {
   "cell_type": "code",
   "execution_count": 34,
   "id": "c513be13-f6cc-4893-9e34-dfe6a94fdff4",
   "metadata": {
    "tags": []
   },
   "outputs": [
    {
     "data": {
      "text/plain": [
       "7     38267\n",
       "1     22005\n",
       "17     4949\n",
       "4      2579\n",
       "6      1801\n",
       "2       926\n",
       "5       545\n",
       "20      155\n",
       "3       138\n",
       "9        95\n",
       "8        12\n",
       "10        7\n",
       "22        4\n",
       "25        2\n",
       "14        1\n",
       "11        1\n",
       "13        1\n",
       "Name: admission_source_id, dtype: int64"
      ]
     },
     "execution_count": 34,
     "metadata": {},
     "output_type": "execute_result"
    }
   ],
   "source": [
    "df['admission_source_id'].value_counts()"
   ]
  },
  {
   "cell_type": "markdown",
   "id": "7b21fdfc-e921-4f60-a27a-f6e7035d9dc4",
   "metadata": {},
   "source": [
    "- admission_source_id is Integer identifier corresponding to 21 distinct values, for example, physician referral, emergency room, and transfer from a hospital.\n",
    "- So, we impute the values into 4 ways Referral, Emergency, Other or Null for which we can use SimpleImputer() to later impute the value.\n",
    "- Source for the information related to codes is : https://www.cms.gov/regulations-and-guidance/guidance/transmittals/downloads/r1775cp.pdf"
   ]
  },
  {
   "cell_type": "code",
   "execution_count": 35,
   "id": "e40b1455-276f-4eb5-a079-1d71aa317237",
   "metadata": {
    "tags": []
   },
   "outputs": [],
   "source": [
    "def map_admission_source(admission_source_id):\n",
    "    if admission_source_id in [1, 2, 3]:\n",
    "        return \"Referral\"\n",
    "    elif admission_source_id == 7:\n",
    "        return \"Emergency\"\n",
    "    elif admission_source_id in [4, 5, 6, 8, 9, 10, 11, 13, 14, 22, 25]:\n",
    "        return \"Other\"\n",
    "    else:\n",
    "        return np.nan"
   ]
  },
  {
   "cell_type": "code",
   "execution_count": 36,
   "id": "c2df33eb-9e1e-4155-9e28-9862808a2c11",
   "metadata": {
    "tags": []
   },
   "outputs": [],
   "source": [
    "df['admission_source_id'] = df['admission_source_id'].apply(map_admission_source)"
   ]
  },
  {
   "cell_type": "code",
   "execution_count": 37,
   "id": "1ef66b4b-4584-45cb-8478-d7eb6668f4ef",
   "metadata": {
    "tags": []
   },
   "outputs": [
    {
     "data": {
      "text/plain": [
       "Emergency    38267\n",
       "Referral     23069\n",
       "Other         5048\n",
       "Name: admission_source_id, dtype: int64"
      ]
     },
     "execution_count": 37,
     "metadata": {},
     "output_type": "execute_result"
    }
   ],
   "source": [
    "df['admission_source_id'].value_counts()"
   ]
  },
  {
   "cell_type": "markdown",
   "id": "3d5e23b6-a007-427d-9ac3-1226b58ab456",
   "metadata": {},
   "source": [
    "---"
   ]
  },
  {
   "cell_type": "markdown",
   "id": "1fbee337-2c5b-406b-acab-db638eeb3c95",
   "metadata": {},
   "source": [
    "> As mentioned above we impute the NULL values with the most frequent value(mode) as stated above."
   ]
  },
  {
   "cell_type": "code",
   "execution_count": 38,
   "id": "3642427a-2a62-4649-a631-5a26484788a9",
   "metadata": {},
   "outputs": [],
   "source": [
    "df['discharge_disposition_id'] = df['discharge_disposition_id'].fillna(df['discharge_disposition_id'].mode()[0])\n",
    "\n",
    "df['admission_source_id'] = df['admission_source_id'].fillna(df['admission_source_id'].mode()[0])"
   ]
  },
  {
   "cell_type": "code",
   "execution_count": 39,
   "id": "2154ed7a-0bb6-4ffe-b075-6348c36f5452",
   "metadata": {
    "tags": []
   },
   "outputs": [
    {
     "data": {
      "text/plain": [
       "Emergency    43371\n",
       "Referral     23069\n",
       "Other         5048\n",
       "Name: admission_source_id, dtype: int64"
      ]
     },
     "execution_count": 39,
     "metadata": {},
     "output_type": "execute_result"
    }
   ],
   "source": [
    "df['admission_source_id'].value_counts()"
   ]
  },
  {
   "cell_type": "code",
   "execution_count": 40,
   "id": "08150d10-d31f-4e21-84e8-6d9f129d4cee",
   "metadata": {
    "tags": []
   },
   "outputs": [
    {
     "data": {
      "text/plain": [
       "Discharged to Home    56163\n",
       "Other                 15325\n",
       "Name: discharge_disposition_id, dtype: int64"
      ]
     },
     "execution_count": 40,
     "metadata": {},
     "output_type": "execute_result"
    }
   ],
   "source": [
    "df['discharge_disposition_id'].value_counts()"
   ]
  },
  {
   "cell_type": "markdown",
   "id": "ca8aaf73-e397-4aac-b5de-d06b7970dae1",
   "metadata": {},
   "source": [
    "---"
   ]
  },
  {
   "cell_type": "markdown",
   "id": "83fbc51f-998f-474f-bb48-0ea953551ced",
   "metadata": {},
   "source": [
    "- **Feature** : race"
   ]
  },
  {
   "cell_type": "markdown",
   "id": "71e212c4-2717-4bca-bb0c-ea552fd16cec",
   "metadata": {},
   "source": [
    "> As we have seen in Section 3.2 there are some missing values in race, so we impute them using mode."
   ]
  },
  {
   "cell_type": "code",
   "execution_count": 41,
   "id": "4eb53bf9-8932-42d4-9648-b09ce8a8d5b2",
   "metadata": {
    "tags": []
   },
   "outputs": [],
   "source": [
    "df['race'] = df['race'].fillna(df['race'].mode()[0])"
   ]
  },
  {
   "cell_type": "code",
   "execution_count": 42,
   "id": "60418fd0-e1bb-4725-a7bf-b4166d717743",
   "metadata": {
    "tags": []
   },
   "outputs": [
    {
     "data": {
      "text/plain": [
       "Caucasian          55416\n",
       "AfricanAmerican    12883\n",
       "Hispanic            1515\n",
       "Other               1178\n",
       "Asian                496\n",
       "Name: race, dtype: int64"
      ]
     },
     "execution_count": 42,
     "metadata": {},
     "output_type": "execute_result"
    }
   ],
   "source": [
    "df['race'].value_counts()"
   ]
  },
  {
   "cell_type": "markdown",
   "id": "e3b4c518-8f91-4fd8-acc8-f92609115d5f",
   "metadata": {},
   "source": [
    "- As in case of race we impute Hispanic and Asian as well into other as well."
   ]
  },
  {
   "cell_type": "code",
   "execution_count": 43,
   "id": "11e86b0e-b1cd-4180-a3ce-89e36a314c08",
   "metadata": {
    "tags": []
   },
   "outputs": [],
   "source": [
    "categories_to_impute = ['Hispanic', 'Asian']\n",
    "\n",
    "df['race'] = df['race'].replace(categories_to_impute, 'Other')"
   ]
  },
  {
   "cell_type": "code",
   "execution_count": 44,
   "id": "7e5a297f-b297-4b3b-b336-e110f953aa10",
   "metadata": {
    "tags": []
   },
   "outputs": [
    {
     "data": {
      "text/plain": [
       "Caucasian          55416\n",
       "AfricanAmerican    12883\n",
       "Other               3189\n",
       "Name: race, dtype: int64"
      ]
     },
     "execution_count": 44,
     "metadata": {},
     "output_type": "execute_result"
    }
   ],
   "source": [
    "df['race'].value_counts()"
   ]
  },
  {
   "cell_type": "markdown",
   "id": "c3c45f04-fc76-45f0-a0ef-82652104149e",
   "metadata": {},
   "source": [
    "---"
   ]
  },
  {
   "cell_type": "markdown",
   "id": "6435d908-d26e-4597-8a4c-937f70dd3214",
   "metadata": {},
   "source": [
    "- **Feature** : number_outpatient,number_emergency,number_inpatient,diag_1,diag_2,diag_3"
   ]
  },
  {
   "cell_type": "code",
   "execution_count": 45,
   "id": "5d129218-5294-46f6-ab98-f3c07b1e40a8",
   "metadata": {
    "tags": []
   },
   "outputs": [
    {
     "data": {
      "text/plain": [
       "Index(['encounter_id', 'patient_nbr', 'race', 'gender', 'age',\n",
       "       'admission_type_id', 'discharge_disposition_id', 'admission_source_id',\n",
       "       'time_in_hospital', 'num_lab_procedures', 'num_procedures',\n",
       "       'num_medications', 'number_outpatient', 'number_emergency',\n",
       "       'number_inpatient', 'diag_1', 'diag_2', 'diag_3', 'number_diagnoses',\n",
       "       'max_glu_serum', 'A1Cresult', 'metformin', 'repaglinide', 'nateglinide',\n",
       "       'chlorpropamide', 'glimepiride', 'acetohexamide', 'glipizide',\n",
       "       'glyburide', 'tolbutamide', 'pioglitazone', 'rosiglitazone', 'acarbose',\n",
       "       'miglitol', 'troglitazone', 'tolazamide', 'examide', 'citoglipton',\n",
       "       'insulin', 'glyburide-metformin', 'glipizide-metformin',\n",
       "       'glimepiride-pioglitazone', 'metformin-rosiglitazone',\n",
       "       'metformin-pioglitazone', 'change', 'diabetesMed', 'readmitted'],\n",
       "      dtype='object')"
      ]
     },
     "execution_count": 45,
     "metadata": {},
     "output_type": "execute_result"
    }
   ],
   "source": [
    "df.columns"
   ]
  },
  {
   "cell_type": "markdown",
   "id": "cb31e22e-8a0a-4932-8d73-546c92d4a65c",
   "metadata": {},
   "source": [
    "> We drop these features, as we belive that in this context this information is redundant and is already provided by other features in the data."
   ]
  },
  {
   "cell_type": "code",
   "execution_count": 46,
   "id": "ed74b666-c40d-4337-864f-aeb2cc13722f",
   "metadata": {
    "tags": []
   },
   "outputs": [],
   "source": [
    "columns_todrop = ['number_outpatient','number_emergency','number_inpatient','diag_1','diag_2','diag_3']"
   ]
  },
  {
   "cell_type": "code",
   "execution_count": 47,
   "id": "2b19a8b2-5399-49ce-a746-237b0051eb25",
   "metadata": {
    "tags": []
   },
   "outputs": [],
   "source": [
    "df = df.drop(columns_todrop,axis = 1)"
   ]
  },
  {
   "cell_type": "code",
   "execution_count": 48,
   "id": "bce50136-faf3-45d4-90d5-d4da215108f0",
   "metadata": {
    "tags": []
   },
   "outputs": [
    {
     "data": {
      "text/plain": [
       "Index(['encounter_id', 'patient_nbr', 'race', 'gender', 'age',\n",
       "       'admission_type_id', 'discharge_disposition_id', 'admission_source_id',\n",
       "       'time_in_hospital', 'num_lab_procedures', 'num_procedures',\n",
       "       'num_medications', 'number_diagnoses', 'max_glu_serum', 'A1Cresult',\n",
       "       'metformin', 'repaglinide', 'nateglinide', 'chlorpropamide',\n",
       "       'glimepiride', 'acetohexamide', 'glipizide', 'glyburide', 'tolbutamide',\n",
       "       'pioglitazone', 'rosiglitazone', 'acarbose', 'miglitol', 'troglitazone',\n",
       "       'tolazamide', 'examide', 'citoglipton', 'insulin',\n",
       "       'glyburide-metformin', 'glipizide-metformin',\n",
       "       'glimepiride-pioglitazone', 'metformin-rosiglitazone',\n",
       "       'metformin-pioglitazone', 'change', 'diabetesMed', 'readmitted'],\n",
       "      dtype='object')"
      ]
     },
     "execution_count": 48,
     "metadata": {},
     "output_type": "execute_result"
    }
   ],
   "source": [
    "df.columns"
   ]
  },
  {
   "cell_type": "code",
   "execution_count": 49,
   "id": "06098dbb-ecc2-41c1-89f3-bbc8f29ab25c",
   "metadata": {
    "tags": []
   },
   "outputs": [
    {
     "data": {
      "text/html": [
       "<div>\n",
       "<style scoped>\n",
       "    .dataframe tbody tr th:only-of-type {\n",
       "        vertical-align: middle;\n",
       "    }\n",
       "\n",
       "    .dataframe tbody tr th {\n",
       "        vertical-align: top;\n",
       "    }\n",
       "\n",
       "    .dataframe thead th {\n",
       "        text-align: right;\n",
       "    }\n",
       "</style>\n",
       "<table border=\"1\" class=\"dataframe\">\n",
       "  <thead>\n",
       "    <tr style=\"text-align: right;\">\n",
       "      <th></th>\n",
       "      <th>encounter_id</th>\n",
       "      <th>patient_nbr</th>\n",
       "      <th>race</th>\n",
       "      <th>gender</th>\n",
       "      <th>age</th>\n",
       "      <th>admission_type_id</th>\n",
       "      <th>discharge_disposition_id</th>\n",
       "      <th>admission_source_id</th>\n",
       "      <th>time_in_hospital</th>\n",
       "      <th>num_lab_procedures</th>\n",
       "      <th>...</th>\n",
       "      <th>citoglipton</th>\n",
       "      <th>insulin</th>\n",
       "      <th>glyburide-metformin</th>\n",
       "      <th>glipizide-metformin</th>\n",
       "      <th>glimepiride-pioglitazone</th>\n",
       "      <th>metformin-rosiglitazone</th>\n",
       "      <th>metformin-pioglitazone</th>\n",
       "      <th>change</th>\n",
       "      <th>diabetesMed</th>\n",
       "      <th>readmitted</th>\n",
       "    </tr>\n",
       "  </thead>\n",
       "  <tbody>\n",
       "    <tr>\n",
       "      <th>0</th>\n",
       "      <td>2278392</td>\n",
       "      <td>8222157</td>\n",
       "      <td>Caucasian</td>\n",
       "      <td>Female</td>\n",
       "      <td>0</td>\n",
       "      <td>Other</td>\n",
       "      <td>Discharged to Home</td>\n",
       "      <td>Referral</td>\n",
       "      <td>1</td>\n",
       "      <td>41</td>\n",
       "      <td>...</td>\n",
       "      <td>No</td>\n",
       "      <td>No</td>\n",
       "      <td>No</td>\n",
       "      <td>No</td>\n",
       "      <td>No</td>\n",
       "      <td>No</td>\n",
       "      <td>No</td>\n",
       "      <td>No</td>\n",
       "      <td>No</td>\n",
       "      <td>0</td>\n",
       "    </tr>\n",
       "    <tr>\n",
       "      <th>1</th>\n",
       "      <td>149190</td>\n",
       "      <td>55629189</td>\n",
       "      <td>Caucasian</td>\n",
       "      <td>Female</td>\n",
       "      <td>0</td>\n",
       "      <td>Emergency</td>\n",
       "      <td>Discharged to Home</td>\n",
       "      <td>Emergency</td>\n",
       "      <td>3</td>\n",
       "      <td>59</td>\n",
       "      <td>...</td>\n",
       "      <td>No</td>\n",
       "      <td>Up</td>\n",
       "      <td>No</td>\n",
       "      <td>No</td>\n",
       "      <td>No</td>\n",
       "      <td>No</td>\n",
       "      <td>No</td>\n",
       "      <td>Ch</td>\n",
       "      <td>Yes</td>\n",
       "      <td>0</td>\n",
       "    </tr>\n",
       "    <tr>\n",
       "      <th>2</th>\n",
       "      <td>64410</td>\n",
       "      <td>86047875</td>\n",
       "      <td>AfricanAmerican</td>\n",
       "      <td>Female</td>\n",
       "      <td>1</td>\n",
       "      <td>Emergency</td>\n",
       "      <td>Discharged to Home</td>\n",
       "      <td>Emergency</td>\n",
       "      <td>2</td>\n",
       "      <td>11</td>\n",
       "      <td>...</td>\n",
       "      <td>No</td>\n",
       "      <td>No</td>\n",
       "      <td>No</td>\n",
       "      <td>No</td>\n",
       "      <td>No</td>\n",
       "      <td>No</td>\n",
       "      <td>No</td>\n",
       "      <td>No</td>\n",
       "      <td>Yes</td>\n",
       "      <td>0</td>\n",
       "    </tr>\n",
       "    <tr>\n",
       "      <th>3</th>\n",
       "      <td>500364</td>\n",
       "      <td>82442376</td>\n",
       "      <td>Caucasian</td>\n",
       "      <td>Male</td>\n",
       "      <td>1</td>\n",
       "      <td>Emergency</td>\n",
       "      <td>Discharged to Home</td>\n",
       "      <td>Emergency</td>\n",
       "      <td>2</td>\n",
       "      <td>44</td>\n",
       "      <td>...</td>\n",
       "      <td>No</td>\n",
       "      <td>Up</td>\n",
       "      <td>No</td>\n",
       "      <td>No</td>\n",
       "      <td>No</td>\n",
       "      <td>No</td>\n",
       "      <td>No</td>\n",
       "      <td>Ch</td>\n",
       "      <td>Yes</td>\n",
       "      <td>0</td>\n",
       "    </tr>\n",
       "    <tr>\n",
       "      <th>4</th>\n",
       "      <td>16680</td>\n",
       "      <td>42519267</td>\n",
       "      <td>Caucasian</td>\n",
       "      <td>Male</td>\n",
       "      <td>2</td>\n",
       "      <td>Emergency</td>\n",
       "      <td>Discharged to Home</td>\n",
       "      <td>Emergency</td>\n",
       "      <td>1</td>\n",
       "      <td>51</td>\n",
       "      <td>...</td>\n",
       "      <td>No</td>\n",
       "      <td>Steady</td>\n",
       "      <td>No</td>\n",
       "      <td>No</td>\n",
       "      <td>No</td>\n",
       "      <td>No</td>\n",
       "      <td>No</td>\n",
       "      <td>Ch</td>\n",
       "      <td>Yes</td>\n",
       "      <td>0</td>\n",
       "    </tr>\n",
       "  </tbody>\n",
       "</table>\n",
       "<p>5 rows × 41 columns</p>\n",
       "</div>"
      ],
      "text/plain": [
       "   encounter_id  patient_nbr             race  gender  age admission_type_id  \\\n",
       "0       2278392      8222157        Caucasian  Female    0             Other   \n",
       "1        149190     55629189        Caucasian  Female    0         Emergency   \n",
       "2         64410     86047875  AfricanAmerican  Female    1         Emergency   \n",
       "3        500364     82442376        Caucasian    Male    1         Emergency   \n",
       "4         16680     42519267        Caucasian    Male    2         Emergency   \n",
       "\n",
       "  discharge_disposition_id admission_source_id  time_in_hospital  \\\n",
       "0       Discharged to Home            Referral                 1   \n",
       "1       Discharged to Home           Emergency                 3   \n",
       "2       Discharged to Home           Emergency                 2   \n",
       "3       Discharged to Home           Emergency                 2   \n",
       "4       Discharged to Home           Emergency                 1   \n",
       "\n",
       "   num_lab_procedures  ...  citoglipton  insulin  glyburide-metformin  \\\n",
       "0                  41  ...           No       No                   No   \n",
       "1                  59  ...           No       Up                   No   \n",
       "2                  11  ...           No       No                   No   \n",
       "3                  44  ...           No       Up                   No   \n",
       "4                  51  ...           No   Steady                   No   \n",
       "\n",
       "  glipizide-metformin glimepiride-pioglitazone metformin-rosiglitazone  \\\n",
       "0                  No                       No                      No   \n",
       "1                  No                       No                      No   \n",
       "2                  No                       No                      No   \n",
       "3                  No                       No                      No   \n",
       "4                  No                       No                      No   \n",
       "\n",
       "  metformin-pioglitazone change diabetesMed readmitted  \n",
       "0                     No     No          No          0  \n",
       "1                     No     Ch         Yes          0  \n",
       "2                     No     No         Yes          0  \n",
       "3                     No     Ch         Yes          0  \n",
       "4                     No     Ch         Yes          0  \n",
       "\n",
       "[5 rows x 41 columns]"
      ]
     },
     "execution_count": 49,
     "metadata": {},
     "output_type": "execute_result"
    }
   ],
   "source": [
    "df.head()"
   ]
  },
  {
   "cell_type": "markdown",
   "id": "577f34e4-cec6-46fd-8783-f36634285d4a",
   "metadata": {},
   "source": [
    "---"
   ]
  },
  {
   "cell_type": "markdown",
   "id": "a5b2eb1e-2640-4dab-9644-dd3c4aa2e212",
   "metadata": {},
   "source": [
    "- **Feature**: Medicines and Tests"
   ]
  },
  {
   "cell_type": "code",
   "execution_count": 50,
   "id": "eb6336ef-6146-4f89-929c-e628ea6b45ba",
   "metadata": {
    "tags": []
   },
   "outputs": [],
   "source": [
    "medicine_list = ['max_glu_serum', 'A1Cresult', 'metformin', 'repaglinide', 'nateglinide',\n",
    "       'chlorpropamide', 'glimepiride', 'acetohexamide', 'glipizide',\n",
    "       'glyburide', 'tolbutamide', 'pioglitazone', 'rosiglitazone', 'acarbose',\n",
    "       'miglitol', 'troglitazone', 'tolazamide', 'examide', 'citoglipton',\n",
    "       'insulin', 'glyburide-metformin', 'glipizide-metformin',\n",
    "       'glimepiride-pioglitazone', 'metformin-rosiglitazone',\n",
    "       'metformin-pioglitazone', 'change', 'diabetesMed']"
   ]
  },
  {
   "cell_type": "code",
   "execution_count": 51,
   "id": "56179508-b944-4b2a-ac60-594dec6321f0",
   "metadata": {
    "tags": []
   },
   "outputs": [
    {
     "name": "stdout",
     "output_type": "stream",
     "text": [
      "***************** max_glu_serum *****************\n",
      "None    68032\n",
      "Norm     1731\n",
      ">200      969\n",
      ">300      756\n",
      "Name: max_glu_serum, dtype: int64\n",
      "***************** A1Cresult *****************\n",
      "None    58508\n",
      ">8       6304\n",
      "Norm     3787\n",
      ">7       2889\n",
      "Name: A1Cresult, dtype: int64\n",
      "***************** metformin *****************\n",
      "No        56504\n",
      "Steady    13711\n",
      "Up          838\n",
      "Down        435\n",
      "Name: metformin, dtype: int64\n",
      "***************** repaglinide *****************\n",
      "No        70562\n",
      "Steady      824\n",
      "Up           73\n",
      "Down         29\n",
      "Name: repaglinide, dtype: int64\n",
      "***************** nateglinide *****************\n",
      "No        70990\n",
      "Steady      474\n",
      "Up           16\n",
      "Down          8\n",
      "Name: nateglinide, dtype: int64\n",
      "***************** chlorpropamide *****************\n",
      "No        71416\n",
      "Steady       67\n",
      "Up            4\n",
      "Down          1\n",
      "Name: chlorpropamide, dtype: int64\n",
      "***************** glimepiride *****************\n",
      "No        67745\n",
      "Steady     3370\n",
      "Up          235\n",
      "Down        138\n",
      "Name: glimepiride, dtype: int64\n",
      "***************** acetohexamide *****************\n",
      "No        71487\n",
      "Steady        1\n",
      "Name: acetohexamide, dtype: int64\n",
      "***************** glipizide *****************\n",
      "No        62383\n",
      "Steady     8149\n",
      "Up          578\n",
      "Down        378\n",
      "Name: glipizide, dtype: int64\n",
      "***************** glyburide *****************\n",
      "No        63635\n",
      "Steady     6811\n",
      "Up          621\n",
      "Down        421\n",
      "Name: glyburide, dtype: int64\n",
      "***************** tolbutamide *****************\n",
      "No        71469\n",
      "Steady       19\n",
      "Name: tolbutamide, dtype: int64\n",
      "***************** pioglitazone *****************\n",
      "No        66184\n",
      "Steady     5043\n",
      "Up          180\n",
      "Down         81\n",
      "Name: pioglitazone, dtype: int64\n",
      "***************** rosiglitazone *****************\n",
      "No        66787\n",
      "Steady     4490\n",
      "Up          136\n",
      "Down         75\n",
      "Name: rosiglitazone, dtype: int64\n",
      "***************** acarbose *****************\n",
      "No        71286\n",
      "Steady      192\n",
      "Up           10\n",
      "Name: acarbose, dtype: int64\n",
      "***************** miglitol *****************\n",
      "No        71468\n",
      "Steady       18\n",
      "Down          1\n",
      "Up            1\n",
      "Name: miglitol, dtype: int64\n",
      "***************** troglitazone *****************\n",
      "No        71485\n",
      "Steady        3\n",
      "Name: troglitazone, dtype: int64\n",
      "***************** tolazamide *****************\n",
      "No        71458\n",
      "Steady       30\n",
      "Name: tolazamide, dtype: int64\n",
      "***************** examide *****************\n",
      "No    71488\n",
      "Name: examide, dtype: int64\n",
      "***************** citoglipton *****************\n",
      "No    71488\n",
      "Name: citoglipton, dtype: int64\n",
      "***************** insulin *****************\n",
      "No        34911\n",
      "Steady    22114\n",
      "Down       7503\n",
      "Up         6960\n",
      "Name: insulin, dtype: int64\n",
      "***************** glyburide-metformin *****************\n",
      "No        70986\n",
      "Steady      491\n",
      "Up            7\n",
      "Down          4\n",
      "Name: glyburide-metformin, dtype: int64\n",
      "***************** glipizide-metformin *****************\n",
      "No        71481\n",
      "Steady        7\n",
      "Name: glipizide-metformin, dtype: int64\n",
      "***************** glimepiride-pioglitazone *****************\n",
      "No    71488\n",
      "Name: glimepiride-pioglitazone, dtype: int64\n",
      "***************** metformin-rosiglitazone *****************\n",
      "No        71486\n",
      "Steady        2\n",
      "Name: metformin-rosiglitazone, dtype: int64\n",
      "***************** metformin-pioglitazone *****************\n",
      "No        71487\n",
      "Steady        1\n",
      "Name: metformin-pioglitazone, dtype: int64\n",
      "***************** change *****************\n",
      "No    39474\n",
      "Ch    32014\n",
      "Name: change, dtype: int64\n",
      "***************** diabetesMed *****************\n",
      "Yes    54297\n",
      "No     17191\n",
      "Name: diabetesMed, dtype: int64\n"
     ]
    }
   ],
   "source": [
    "for i in medicine_list:\n",
    "    print(\"*****************\",i,\"*****************\")\n",
    "    print(df[i].value_counts())"
   ]
  },
  {
   "cell_type": "markdown",
   "id": "b9c04bcb-e128-4526-bb59-dc4b10f47b0a",
   "metadata": {},
   "source": [
    "> We drop all the variables that have more than 90% of data as a single value."
   ]
  },
  {
   "cell_type": "code",
   "execution_count": 52,
   "id": "57a33cda-56f1-4517-bb7c-52aa4bc2cf44",
   "metadata": {
    "tags": []
   },
   "outputs": [],
   "source": [
    "medicine_to_drop = ['chlorpropamide','acetohexamide', 'tolbutamide','miglitol', 'troglitazone','tolazamide','examide','citoglipton', 'glipizide-metformin','glimepiride-pioglitazone','metformin-rosiglitazone','metformin-pioglitazone']"
   ]
  },
  {
   "cell_type": "code",
   "execution_count": 53,
   "id": "42fe4d45-678d-4a77-aedc-11d012c0b784",
   "metadata": {
    "tags": []
   },
   "outputs": [],
   "source": [
    "df = df.drop(medicine_to_drop,axis = 1)"
   ]
  },
  {
   "cell_type": "code",
   "execution_count": 54,
   "id": "3fd36be2-af02-4c07-885c-22a59034ab93",
   "metadata": {
    "tags": []
   },
   "outputs": [
    {
     "data": {
      "text/html": [
       "<div>\n",
       "<style scoped>\n",
       "    .dataframe tbody tr th:only-of-type {\n",
       "        vertical-align: middle;\n",
       "    }\n",
       "\n",
       "    .dataframe tbody tr th {\n",
       "        vertical-align: top;\n",
       "    }\n",
       "\n",
       "    .dataframe thead th {\n",
       "        text-align: right;\n",
       "    }\n",
       "</style>\n",
       "<table border=\"1\" class=\"dataframe\">\n",
       "  <thead>\n",
       "    <tr style=\"text-align: right;\">\n",
       "      <th></th>\n",
       "      <th>encounter_id</th>\n",
       "      <th>patient_nbr</th>\n",
       "      <th>race</th>\n",
       "      <th>gender</th>\n",
       "      <th>age</th>\n",
       "      <th>admission_type_id</th>\n",
       "      <th>discharge_disposition_id</th>\n",
       "      <th>admission_source_id</th>\n",
       "      <th>time_in_hospital</th>\n",
       "      <th>num_lab_procedures</th>\n",
       "      <th>...</th>\n",
       "      <th>glipizide</th>\n",
       "      <th>glyburide</th>\n",
       "      <th>pioglitazone</th>\n",
       "      <th>rosiglitazone</th>\n",
       "      <th>acarbose</th>\n",
       "      <th>insulin</th>\n",
       "      <th>glyburide-metformin</th>\n",
       "      <th>change</th>\n",
       "      <th>diabetesMed</th>\n",
       "      <th>readmitted</th>\n",
       "    </tr>\n",
       "  </thead>\n",
       "  <tbody>\n",
       "    <tr>\n",
       "      <th>0</th>\n",
       "      <td>2278392</td>\n",
       "      <td>8222157</td>\n",
       "      <td>Caucasian</td>\n",
       "      <td>Female</td>\n",
       "      <td>0</td>\n",
       "      <td>Other</td>\n",
       "      <td>Discharged to Home</td>\n",
       "      <td>Referral</td>\n",
       "      <td>1</td>\n",
       "      <td>41</td>\n",
       "      <td>...</td>\n",
       "      <td>No</td>\n",
       "      <td>No</td>\n",
       "      <td>No</td>\n",
       "      <td>No</td>\n",
       "      <td>No</td>\n",
       "      <td>No</td>\n",
       "      <td>No</td>\n",
       "      <td>No</td>\n",
       "      <td>No</td>\n",
       "      <td>0</td>\n",
       "    </tr>\n",
       "    <tr>\n",
       "      <th>1</th>\n",
       "      <td>149190</td>\n",
       "      <td>55629189</td>\n",
       "      <td>Caucasian</td>\n",
       "      <td>Female</td>\n",
       "      <td>0</td>\n",
       "      <td>Emergency</td>\n",
       "      <td>Discharged to Home</td>\n",
       "      <td>Emergency</td>\n",
       "      <td>3</td>\n",
       "      <td>59</td>\n",
       "      <td>...</td>\n",
       "      <td>No</td>\n",
       "      <td>No</td>\n",
       "      <td>No</td>\n",
       "      <td>No</td>\n",
       "      <td>No</td>\n",
       "      <td>Up</td>\n",
       "      <td>No</td>\n",
       "      <td>Ch</td>\n",
       "      <td>Yes</td>\n",
       "      <td>0</td>\n",
       "    </tr>\n",
       "    <tr>\n",
       "      <th>2</th>\n",
       "      <td>64410</td>\n",
       "      <td>86047875</td>\n",
       "      <td>AfricanAmerican</td>\n",
       "      <td>Female</td>\n",
       "      <td>1</td>\n",
       "      <td>Emergency</td>\n",
       "      <td>Discharged to Home</td>\n",
       "      <td>Emergency</td>\n",
       "      <td>2</td>\n",
       "      <td>11</td>\n",
       "      <td>...</td>\n",
       "      <td>Steady</td>\n",
       "      <td>No</td>\n",
       "      <td>No</td>\n",
       "      <td>No</td>\n",
       "      <td>No</td>\n",
       "      <td>No</td>\n",
       "      <td>No</td>\n",
       "      <td>No</td>\n",
       "      <td>Yes</td>\n",
       "      <td>0</td>\n",
       "    </tr>\n",
       "    <tr>\n",
       "      <th>3</th>\n",
       "      <td>500364</td>\n",
       "      <td>82442376</td>\n",
       "      <td>Caucasian</td>\n",
       "      <td>Male</td>\n",
       "      <td>1</td>\n",
       "      <td>Emergency</td>\n",
       "      <td>Discharged to Home</td>\n",
       "      <td>Emergency</td>\n",
       "      <td>2</td>\n",
       "      <td>44</td>\n",
       "      <td>...</td>\n",
       "      <td>No</td>\n",
       "      <td>No</td>\n",
       "      <td>No</td>\n",
       "      <td>No</td>\n",
       "      <td>No</td>\n",
       "      <td>Up</td>\n",
       "      <td>No</td>\n",
       "      <td>Ch</td>\n",
       "      <td>Yes</td>\n",
       "      <td>0</td>\n",
       "    </tr>\n",
       "    <tr>\n",
       "      <th>4</th>\n",
       "      <td>16680</td>\n",
       "      <td>42519267</td>\n",
       "      <td>Caucasian</td>\n",
       "      <td>Male</td>\n",
       "      <td>2</td>\n",
       "      <td>Emergency</td>\n",
       "      <td>Discharged to Home</td>\n",
       "      <td>Emergency</td>\n",
       "      <td>1</td>\n",
       "      <td>51</td>\n",
       "      <td>...</td>\n",
       "      <td>Steady</td>\n",
       "      <td>No</td>\n",
       "      <td>No</td>\n",
       "      <td>No</td>\n",
       "      <td>No</td>\n",
       "      <td>Steady</td>\n",
       "      <td>No</td>\n",
       "      <td>Ch</td>\n",
       "      <td>Yes</td>\n",
       "      <td>0</td>\n",
       "    </tr>\n",
       "  </tbody>\n",
       "</table>\n",
       "<p>5 rows × 29 columns</p>\n",
       "</div>"
      ],
      "text/plain": [
       "   encounter_id  patient_nbr             race  gender  age admission_type_id  \\\n",
       "0       2278392      8222157        Caucasian  Female    0             Other   \n",
       "1        149190     55629189        Caucasian  Female    0         Emergency   \n",
       "2         64410     86047875  AfricanAmerican  Female    1         Emergency   \n",
       "3        500364     82442376        Caucasian    Male    1         Emergency   \n",
       "4         16680     42519267        Caucasian    Male    2         Emergency   \n",
       "\n",
       "  discharge_disposition_id admission_source_id  time_in_hospital  \\\n",
       "0       Discharged to Home            Referral                 1   \n",
       "1       Discharged to Home           Emergency                 3   \n",
       "2       Discharged to Home           Emergency                 2   \n",
       "3       Discharged to Home           Emergency                 2   \n",
       "4       Discharged to Home           Emergency                 1   \n",
       "\n",
       "   num_lab_procedures  ...  glipizide  glyburide  pioglitazone rosiglitazone  \\\n",
       "0                  41  ...         No         No            No            No   \n",
       "1                  59  ...         No         No            No            No   \n",
       "2                  11  ...     Steady         No            No            No   \n",
       "3                  44  ...         No         No            No            No   \n",
       "4                  51  ...     Steady         No            No            No   \n",
       "\n",
       "  acarbose insulin glyburide-metformin change diabetesMed readmitted  \n",
       "0       No      No                  No     No          No          0  \n",
       "1       No      Up                  No     Ch         Yes          0  \n",
       "2       No      No                  No     No         Yes          0  \n",
       "3       No      Up                  No     Ch         Yes          0  \n",
       "4       No  Steady                  No     Ch         Yes          0  \n",
       "\n",
       "[5 rows x 29 columns]"
      ]
     },
     "execution_count": 54,
     "metadata": {},
     "output_type": "execute_result"
    }
   ],
   "source": [
    "df.head()"
   ]
  },
  {
   "cell_type": "markdown",
   "id": "32c0a15c-f447-4493-86dc-4666e7e070e9",
   "metadata": {},
   "source": [
    "- For the values in tests and medicines we impute them as 0 and 1. If it is No we impute it as 0 and if it is anything else we impute them as 1.\n",
    "- For most medicines we have Either No or Steady, so we impute them in the above mentioned way."
   ]
  },
  {
   "cell_type": "code",
   "execution_count": 55,
   "id": "a7a3d33b-649c-4b89-a4ce-bb435823fc99",
   "metadata": {
    "tags": []
   },
   "outputs": [],
   "source": [
    "medicine_to_impute = ['max_glu_serum', 'A1Cresult', 'metformin', 'repaglinide', 'nateglinide','glimepiride','glipizide','glyburide','pioglitazone', 'rosiglitazone', 'acarbose','insulin','glyburide-metformin','change', 'diabetesMed']"
   ]
  },
  {
   "cell_type": "code",
   "execution_count": 56,
   "id": "8e8d8451-98a6-4357-8b67-40889de2f9a4",
   "metadata": {
    "tags": []
   },
   "outputs": [],
   "source": [
    "def map_medicine_values(value):\n",
    "    if value == 'No':\n",
    "        return 0\n",
    "    else:\n",
    "        return 1"
   ]
  },
  {
   "cell_type": "code",
   "execution_count": 57,
   "id": "110cd233-6872-4772-b6ac-d640e5c567c9",
   "metadata": {
    "tags": []
   },
   "outputs": [],
   "source": [
    "for i in medicine_to_impute:\n",
    "    df[i] = df[i].apply(map_medicine_values)"
   ]
  },
  {
   "cell_type": "code",
   "execution_count": 58,
   "id": "1376d316-ef7f-49d8-88e0-9b73b4bdcd94",
   "metadata": {
    "tags": []
   },
   "outputs": [
    {
     "data": {
      "text/html": [
       "<div>\n",
       "<style scoped>\n",
       "    .dataframe tbody tr th:only-of-type {\n",
       "        vertical-align: middle;\n",
       "    }\n",
       "\n",
       "    .dataframe tbody tr th {\n",
       "        vertical-align: top;\n",
       "    }\n",
       "\n",
       "    .dataframe thead th {\n",
       "        text-align: right;\n",
       "    }\n",
       "</style>\n",
       "<table border=\"1\" class=\"dataframe\">\n",
       "  <thead>\n",
       "    <tr style=\"text-align: right;\">\n",
       "      <th></th>\n",
       "      <th>encounter_id</th>\n",
       "      <th>patient_nbr</th>\n",
       "      <th>race</th>\n",
       "      <th>gender</th>\n",
       "      <th>age</th>\n",
       "      <th>admission_type_id</th>\n",
       "      <th>discharge_disposition_id</th>\n",
       "      <th>admission_source_id</th>\n",
       "      <th>time_in_hospital</th>\n",
       "      <th>num_lab_procedures</th>\n",
       "      <th>...</th>\n",
       "      <th>glipizide</th>\n",
       "      <th>glyburide</th>\n",
       "      <th>pioglitazone</th>\n",
       "      <th>rosiglitazone</th>\n",
       "      <th>acarbose</th>\n",
       "      <th>insulin</th>\n",
       "      <th>glyburide-metformin</th>\n",
       "      <th>change</th>\n",
       "      <th>diabetesMed</th>\n",
       "      <th>readmitted</th>\n",
       "    </tr>\n",
       "  </thead>\n",
       "  <tbody>\n",
       "    <tr>\n",
       "      <th>0</th>\n",
       "      <td>2278392</td>\n",
       "      <td>8222157</td>\n",
       "      <td>Caucasian</td>\n",
       "      <td>Female</td>\n",
       "      <td>0</td>\n",
       "      <td>Other</td>\n",
       "      <td>Discharged to Home</td>\n",
       "      <td>Referral</td>\n",
       "      <td>1</td>\n",
       "      <td>41</td>\n",
       "      <td>...</td>\n",
       "      <td>0</td>\n",
       "      <td>0</td>\n",
       "      <td>0</td>\n",
       "      <td>0</td>\n",
       "      <td>0</td>\n",
       "      <td>0</td>\n",
       "      <td>0</td>\n",
       "      <td>0</td>\n",
       "      <td>0</td>\n",
       "      <td>0</td>\n",
       "    </tr>\n",
       "    <tr>\n",
       "      <th>1</th>\n",
       "      <td>149190</td>\n",
       "      <td>55629189</td>\n",
       "      <td>Caucasian</td>\n",
       "      <td>Female</td>\n",
       "      <td>0</td>\n",
       "      <td>Emergency</td>\n",
       "      <td>Discharged to Home</td>\n",
       "      <td>Emergency</td>\n",
       "      <td>3</td>\n",
       "      <td>59</td>\n",
       "      <td>...</td>\n",
       "      <td>0</td>\n",
       "      <td>0</td>\n",
       "      <td>0</td>\n",
       "      <td>0</td>\n",
       "      <td>0</td>\n",
       "      <td>1</td>\n",
       "      <td>0</td>\n",
       "      <td>1</td>\n",
       "      <td>1</td>\n",
       "      <td>0</td>\n",
       "    </tr>\n",
       "    <tr>\n",
       "      <th>2</th>\n",
       "      <td>64410</td>\n",
       "      <td>86047875</td>\n",
       "      <td>AfricanAmerican</td>\n",
       "      <td>Female</td>\n",
       "      <td>1</td>\n",
       "      <td>Emergency</td>\n",
       "      <td>Discharged to Home</td>\n",
       "      <td>Emergency</td>\n",
       "      <td>2</td>\n",
       "      <td>11</td>\n",
       "      <td>...</td>\n",
       "      <td>1</td>\n",
       "      <td>0</td>\n",
       "      <td>0</td>\n",
       "      <td>0</td>\n",
       "      <td>0</td>\n",
       "      <td>0</td>\n",
       "      <td>0</td>\n",
       "      <td>0</td>\n",
       "      <td>1</td>\n",
       "      <td>0</td>\n",
       "    </tr>\n",
       "    <tr>\n",
       "      <th>3</th>\n",
       "      <td>500364</td>\n",
       "      <td>82442376</td>\n",
       "      <td>Caucasian</td>\n",
       "      <td>Male</td>\n",
       "      <td>1</td>\n",
       "      <td>Emergency</td>\n",
       "      <td>Discharged to Home</td>\n",
       "      <td>Emergency</td>\n",
       "      <td>2</td>\n",
       "      <td>44</td>\n",
       "      <td>...</td>\n",
       "      <td>0</td>\n",
       "      <td>0</td>\n",
       "      <td>0</td>\n",
       "      <td>0</td>\n",
       "      <td>0</td>\n",
       "      <td>1</td>\n",
       "      <td>0</td>\n",
       "      <td>1</td>\n",
       "      <td>1</td>\n",
       "      <td>0</td>\n",
       "    </tr>\n",
       "    <tr>\n",
       "      <th>4</th>\n",
       "      <td>16680</td>\n",
       "      <td>42519267</td>\n",
       "      <td>Caucasian</td>\n",
       "      <td>Male</td>\n",
       "      <td>2</td>\n",
       "      <td>Emergency</td>\n",
       "      <td>Discharged to Home</td>\n",
       "      <td>Emergency</td>\n",
       "      <td>1</td>\n",
       "      <td>51</td>\n",
       "      <td>...</td>\n",
       "      <td>1</td>\n",
       "      <td>0</td>\n",
       "      <td>0</td>\n",
       "      <td>0</td>\n",
       "      <td>0</td>\n",
       "      <td>1</td>\n",
       "      <td>0</td>\n",
       "      <td>1</td>\n",
       "      <td>1</td>\n",
       "      <td>0</td>\n",
       "    </tr>\n",
       "  </tbody>\n",
       "</table>\n",
       "<p>5 rows × 29 columns</p>\n",
       "</div>"
      ],
      "text/plain": [
       "   encounter_id  patient_nbr             race  gender  age admission_type_id  \\\n",
       "0       2278392      8222157        Caucasian  Female    0             Other   \n",
       "1        149190     55629189        Caucasian  Female    0         Emergency   \n",
       "2         64410     86047875  AfricanAmerican  Female    1         Emergency   \n",
       "3        500364     82442376        Caucasian    Male    1         Emergency   \n",
       "4         16680     42519267        Caucasian    Male    2         Emergency   \n",
       "\n",
       "  discharge_disposition_id admission_source_id  time_in_hospital  \\\n",
       "0       Discharged to Home            Referral                 1   \n",
       "1       Discharged to Home           Emergency                 3   \n",
       "2       Discharged to Home           Emergency                 2   \n",
       "3       Discharged to Home           Emergency                 2   \n",
       "4       Discharged to Home           Emergency                 1   \n",
       "\n",
       "   num_lab_procedures  ...  glipizide  glyburide  pioglitazone  rosiglitazone  \\\n",
       "0                  41  ...          0          0             0              0   \n",
       "1                  59  ...          0          0             0              0   \n",
       "2                  11  ...          1          0             0              0   \n",
       "3                  44  ...          0          0             0              0   \n",
       "4                  51  ...          1          0             0              0   \n",
       "\n",
       "   acarbose  insulin  glyburide-metformin  change  diabetesMed  readmitted  \n",
       "0         0        0                    0       0            0           0  \n",
       "1         0        1                    0       1            1           0  \n",
       "2         0        0                    0       0            1           0  \n",
       "3         0        1                    0       1            1           0  \n",
       "4         0        1                    0       1            1           0  \n",
       "\n",
       "[5 rows x 29 columns]"
      ]
     },
     "execution_count": 58,
     "metadata": {},
     "output_type": "execute_result"
    }
   ],
   "source": [
    "df.head()"
   ]
  },
  {
   "cell_type": "markdown",
   "id": "4ba210f5-a66c-4981-ac24-804faba418bc",
   "metadata": {},
   "source": [
    "---"
   ]
  },
  {
   "cell_type": "code",
   "execution_count": 59,
   "id": "f1127335-4a29-4d26-beb3-187d429dfe71",
   "metadata": {
    "tags": []
   },
   "outputs": [],
   "source": [
    "df = df.drop(['encounter_id','patient_nbr'],axis = 1)"
   ]
  },
  {
   "cell_type": "code",
   "execution_count": 60,
   "id": "8d66a6f1-dc16-459b-965c-29692f95a94d",
   "metadata": {
    "tags": []
   },
   "outputs": [
    {
     "data": {
      "text/html": [
       "<div>\n",
       "<style scoped>\n",
       "    .dataframe tbody tr th:only-of-type {\n",
       "        vertical-align: middle;\n",
       "    }\n",
       "\n",
       "    .dataframe tbody tr th {\n",
       "        vertical-align: top;\n",
       "    }\n",
       "\n",
       "    .dataframe thead th {\n",
       "        text-align: right;\n",
       "    }\n",
       "</style>\n",
       "<table border=\"1\" class=\"dataframe\">\n",
       "  <thead>\n",
       "    <tr style=\"text-align: right;\">\n",
       "      <th></th>\n",
       "      <th>race</th>\n",
       "      <th>gender</th>\n",
       "      <th>age</th>\n",
       "      <th>admission_type_id</th>\n",
       "      <th>discharge_disposition_id</th>\n",
       "      <th>admission_source_id</th>\n",
       "      <th>time_in_hospital</th>\n",
       "      <th>num_lab_procedures</th>\n",
       "      <th>num_procedures</th>\n",
       "      <th>num_medications</th>\n",
       "      <th>...</th>\n",
       "      <th>glipizide</th>\n",
       "      <th>glyburide</th>\n",
       "      <th>pioglitazone</th>\n",
       "      <th>rosiglitazone</th>\n",
       "      <th>acarbose</th>\n",
       "      <th>insulin</th>\n",
       "      <th>glyburide-metformin</th>\n",
       "      <th>change</th>\n",
       "      <th>diabetesMed</th>\n",
       "      <th>readmitted</th>\n",
       "    </tr>\n",
       "  </thead>\n",
       "  <tbody>\n",
       "    <tr>\n",
       "      <th>0</th>\n",
       "      <td>Caucasian</td>\n",
       "      <td>Female</td>\n",
       "      <td>0</td>\n",
       "      <td>Other</td>\n",
       "      <td>Discharged to Home</td>\n",
       "      <td>Referral</td>\n",
       "      <td>1</td>\n",
       "      <td>41</td>\n",
       "      <td>0</td>\n",
       "      <td>1</td>\n",
       "      <td>...</td>\n",
       "      <td>0</td>\n",
       "      <td>0</td>\n",
       "      <td>0</td>\n",
       "      <td>0</td>\n",
       "      <td>0</td>\n",
       "      <td>0</td>\n",
       "      <td>0</td>\n",
       "      <td>0</td>\n",
       "      <td>0</td>\n",
       "      <td>0</td>\n",
       "    </tr>\n",
       "    <tr>\n",
       "      <th>1</th>\n",
       "      <td>Caucasian</td>\n",
       "      <td>Female</td>\n",
       "      <td>0</td>\n",
       "      <td>Emergency</td>\n",
       "      <td>Discharged to Home</td>\n",
       "      <td>Emergency</td>\n",
       "      <td>3</td>\n",
       "      <td>59</td>\n",
       "      <td>0</td>\n",
       "      <td>18</td>\n",
       "      <td>...</td>\n",
       "      <td>0</td>\n",
       "      <td>0</td>\n",
       "      <td>0</td>\n",
       "      <td>0</td>\n",
       "      <td>0</td>\n",
       "      <td>1</td>\n",
       "      <td>0</td>\n",
       "      <td>1</td>\n",
       "      <td>1</td>\n",
       "      <td>0</td>\n",
       "    </tr>\n",
       "    <tr>\n",
       "      <th>2</th>\n",
       "      <td>AfricanAmerican</td>\n",
       "      <td>Female</td>\n",
       "      <td>1</td>\n",
       "      <td>Emergency</td>\n",
       "      <td>Discharged to Home</td>\n",
       "      <td>Emergency</td>\n",
       "      <td>2</td>\n",
       "      <td>11</td>\n",
       "      <td>5</td>\n",
       "      <td>13</td>\n",
       "      <td>...</td>\n",
       "      <td>1</td>\n",
       "      <td>0</td>\n",
       "      <td>0</td>\n",
       "      <td>0</td>\n",
       "      <td>0</td>\n",
       "      <td>0</td>\n",
       "      <td>0</td>\n",
       "      <td>0</td>\n",
       "      <td>1</td>\n",
       "      <td>0</td>\n",
       "    </tr>\n",
       "    <tr>\n",
       "      <th>3</th>\n",
       "      <td>Caucasian</td>\n",
       "      <td>Male</td>\n",
       "      <td>1</td>\n",
       "      <td>Emergency</td>\n",
       "      <td>Discharged to Home</td>\n",
       "      <td>Emergency</td>\n",
       "      <td>2</td>\n",
       "      <td>44</td>\n",
       "      <td>1</td>\n",
       "      <td>16</td>\n",
       "      <td>...</td>\n",
       "      <td>0</td>\n",
       "      <td>0</td>\n",
       "      <td>0</td>\n",
       "      <td>0</td>\n",
       "      <td>0</td>\n",
       "      <td>1</td>\n",
       "      <td>0</td>\n",
       "      <td>1</td>\n",
       "      <td>1</td>\n",
       "      <td>0</td>\n",
       "    </tr>\n",
       "    <tr>\n",
       "      <th>4</th>\n",
       "      <td>Caucasian</td>\n",
       "      <td>Male</td>\n",
       "      <td>2</td>\n",
       "      <td>Emergency</td>\n",
       "      <td>Discharged to Home</td>\n",
       "      <td>Emergency</td>\n",
       "      <td>1</td>\n",
       "      <td>51</td>\n",
       "      <td>0</td>\n",
       "      <td>8</td>\n",
       "      <td>...</td>\n",
       "      <td>1</td>\n",
       "      <td>0</td>\n",
       "      <td>0</td>\n",
       "      <td>0</td>\n",
       "      <td>0</td>\n",
       "      <td>1</td>\n",
       "      <td>0</td>\n",
       "      <td>1</td>\n",
       "      <td>1</td>\n",
       "      <td>0</td>\n",
       "    </tr>\n",
       "  </tbody>\n",
       "</table>\n",
       "<p>5 rows × 27 columns</p>\n",
       "</div>"
      ],
      "text/plain": [
       "              race  gender  age admission_type_id discharge_disposition_id  \\\n",
       "0        Caucasian  Female    0             Other       Discharged to Home   \n",
       "1        Caucasian  Female    0         Emergency       Discharged to Home   \n",
       "2  AfricanAmerican  Female    1         Emergency       Discharged to Home   \n",
       "3        Caucasian    Male    1         Emergency       Discharged to Home   \n",
       "4        Caucasian    Male    2         Emergency       Discharged to Home   \n",
       "\n",
       "  admission_source_id  time_in_hospital  num_lab_procedures  num_procedures  \\\n",
       "0            Referral                 1                  41               0   \n",
       "1           Emergency                 3                  59               0   \n",
       "2           Emergency                 2                  11               5   \n",
       "3           Emergency                 2                  44               1   \n",
       "4           Emergency                 1                  51               0   \n",
       "\n",
       "   num_medications  ...  glipizide  glyburide  pioglitazone  rosiglitazone  \\\n",
       "0                1  ...          0          0             0              0   \n",
       "1               18  ...          0          0             0              0   \n",
       "2               13  ...          1          0             0              0   \n",
       "3               16  ...          0          0             0              0   \n",
       "4                8  ...          1          0             0              0   \n",
       "\n",
       "   acarbose  insulin  glyburide-metformin  change  diabetesMed  readmitted  \n",
       "0         0        0                    0       0            0           0  \n",
       "1         0        1                    0       1            1           0  \n",
       "2         0        0                    0       0            1           0  \n",
       "3         0        1                    0       1            1           0  \n",
       "4         0        1                    0       1            1           0  \n",
       "\n",
       "[5 rows x 27 columns]"
      ]
     },
     "execution_count": 60,
     "metadata": {},
     "output_type": "execute_result"
    }
   ],
   "source": [
    "df.head()"
   ]
  },
  {
   "cell_type": "code",
   "execution_count": 61,
   "id": "28f6d0a2-f2aa-4ac1-9fe3-180cb48b102d",
   "metadata": {
    "tags": []
   },
   "outputs": [
    {
     "data": {
      "text/plain": [
       "Index(['race', 'gender', 'age', 'admission_type_id',\n",
       "       'discharge_disposition_id', 'admission_source_id', 'time_in_hospital',\n",
       "       'num_lab_procedures', 'num_procedures', 'num_medications',\n",
       "       'number_diagnoses', 'max_glu_serum', 'A1Cresult', 'metformin',\n",
       "       'repaglinide', 'nateglinide', 'glimepiride', 'glipizide', 'glyburide',\n",
       "       'pioglitazone', 'rosiglitazone', 'acarbose', 'insulin',\n",
       "       'glyburide-metformin', 'change', 'diabetesMed', 'readmitted'],\n",
       "      dtype='object')"
      ]
     },
     "execution_count": 61,
     "metadata": {},
     "output_type": "execute_result"
    }
   ],
   "source": [
    "df.columns"
   ]
  },
  {
   "cell_type": "markdown",
   "id": "2271c520-207a-4b3b-9fce-dd8989198c56",
   "metadata": {},
   "source": [
    "#### Step-4 : Creating Dummy Variables"
   ]
  },
  {
   "cell_type": "markdown",
   "id": "8fe8a734-bb15-488d-b409-86ac5f6efb66",
   "metadata": {},
   "source": [
    "> In This step we create dummy variables for the categorical variables."
   ]
  },
  {
   "cell_type": "code",
   "execution_count": 62,
   "id": "5af4ac31-52dc-4718-9494-fbbcff3ba87e",
   "metadata": {
    "tags": []
   },
   "outputs": [],
   "source": [
    "cat_columns = ['race','gender','admission_type_id','discharge_disposition_id', 'admission_source_id']"
   ]
  },
  {
   "cell_type": "code",
   "execution_count": 63,
   "id": "73352844-c56d-49ae-9acc-95e3d31ecc77",
   "metadata": {
    "tags": []
   },
   "outputs": [],
   "source": [
    "df = pd.get_dummies(df, prefix_sep='_', dummy_na=False, drop_first=True, columns=cat_columns)"
   ]
  },
  {
   "cell_type": "code",
   "execution_count": 64,
   "id": "d96aeea6-6bcf-40fe-97c7-860513f2221a",
   "metadata": {
    "tags": []
   },
   "outputs": [
    {
     "data": {
      "text/html": [
       "<div>\n",
       "<style scoped>\n",
       "    .dataframe tbody tr th:only-of-type {\n",
       "        vertical-align: middle;\n",
       "    }\n",
       "\n",
       "    .dataframe tbody tr th {\n",
       "        vertical-align: top;\n",
       "    }\n",
       "\n",
       "    .dataframe thead th {\n",
       "        text-align: right;\n",
       "    }\n",
       "</style>\n",
       "<table border=\"1\" class=\"dataframe\">\n",
       "  <thead>\n",
       "    <tr style=\"text-align: right;\">\n",
       "      <th></th>\n",
       "      <th>age</th>\n",
       "      <th>time_in_hospital</th>\n",
       "      <th>num_lab_procedures</th>\n",
       "      <th>num_procedures</th>\n",
       "      <th>num_medications</th>\n",
       "      <th>number_diagnoses</th>\n",
       "      <th>max_glu_serum</th>\n",
       "      <th>A1Cresult</th>\n",
       "      <th>metformin</th>\n",
       "      <th>repaglinide</th>\n",
       "      <th>...</th>\n",
       "      <th>readmitted</th>\n",
       "      <th>race_Caucasian</th>\n",
       "      <th>race_Other</th>\n",
       "      <th>gender_Male</th>\n",
       "      <th>gender_Unknown/Invalid</th>\n",
       "      <th>admission_type_id_Emergency</th>\n",
       "      <th>admission_type_id_Other</th>\n",
       "      <th>discharge_disposition_id_Other</th>\n",
       "      <th>admission_source_id_Other</th>\n",
       "      <th>admission_source_id_Referral</th>\n",
       "    </tr>\n",
       "  </thead>\n",
       "  <tbody>\n",
       "    <tr>\n",
       "      <th>0</th>\n",
       "      <td>0</td>\n",
       "      <td>1</td>\n",
       "      <td>41</td>\n",
       "      <td>0</td>\n",
       "      <td>1</td>\n",
       "      <td>1</td>\n",
       "      <td>1</td>\n",
       "      <td>1</td>\n",
       "      <td>0</td>\n",
       "      <td>0</td>\n",
       "      <td>...</td>\n",
       "      <td>0</td>\n",
       "      <td>1</td>\n",
       "      <td>0</td>\n",
       "      <td>0</td>\n",
       "      <td>0</td>\n",
       "      <td>0</td>\n",
       "      <td>1</td>\n",
       "      <td>0</td>\n",
       "      <td>0</td>\n",
       "      <td>1</td>\n",
       "    </tr>\n",
       "    <tr>\n",
       "      <th>1</th>\n",
       "      <td>0</td>\n",
       "      <td>3</td>\n",
       "      <td>59</td>\n",
       "      <td>0</td>\n",
       "      <td>18</td>\n",
       "      <td>9</td>\n",
       "      <td>1</td>\n",
       "      <td>1</td>\n",
       "      <td>0</td>\n",
       "      <td>0</td>\n",
       "      <td>...</td>\n",
       "      <td>0</td>\n",
       "      <td>1</td>\n",
       "      <td>0</td>\n",
       "      <td>0</td>\n",
       "      <td>0</td>\n",
       "      <td>1</td>\n",
       "      <td>0</td>\n",
       "      <td>0</td>\n",
       "      <td>0</td>\n",
       "      <td>0</td>\n",
       "    </tr>\n",
       "    <tr>\n",
       "      <th>2</th>\n",
       "      <td>1</td>\n",
       "      <td>2</td>\n",
       "      <td>11</td>\n",
       "      <td>5</td>\n",
       "      <td>13</td>\n",
       "      <td>6</td>\n",
       "      <td>1</td>\n",
       "      <td>1</td>\n",
       "      <td>0</td>\n",
       "      <td>0</td>\n",
       "      <td>...</td>\n",
       "      <td>0</td>\n",
       "      <td>0</td>\n",
       "      <td>0</td>\n",
       "      <td>0</td>\n",
       "      <td>0</td>\n",
       "      <td>1</td>\n",
       "      <td>0</td>\n",
       "      <td>0</td>\n",
       "      <td>0</td>\n",
       "      <td>0</td>\n",
       "    </tr>\n",
       "    <tr>\n",
       "      <th>3</th>\n",
       "      <td>1</td>\n",
       "      <td>2</td>\n",
       "      <td>44</td>\n",
       "      <td>1</td>\n",
       "      <td>16</td>\n",
       "      <td>7</td>\n",
       "      <td>1</td>\n",
       "      <td>1</td>\n",
       "      <td>0</td>\n",
       "      <td>0</td>\n",
       "      <td>...</td>\n",
       "      <td>0</td>\n",
       "      <td>1</td>\n",
       "      <td>0</td>\n",
       "      <td>1</td>\n",
       "      <td>0</td>\n",
       "      <td>1</td>\n",
       "      <td>0</td>\n",
       "      <td>0</td>\n",
       "      <td>0</td>\n",
       "      <td>0</td>\n",
       "    </tr>\n",
       "    <tr>\n",
       "      <th>4</th>\n",
       "      <td>2</td>\n",
       "      <td>1</td>\n",
       "      <td>51</td>\n",
       "      <td>0</td>\n",
       "      <td>8</td>\n",
       "      <td>5</td>\n",
       "      <td>1</td>\n",
       "      <td>1</td>\n",
       "      <td>0</td>\n",
       "      <td>0</td>\n",
       "      <td>...</td>\n",
       "      <td>0</td>\n",
       "      <td>1</td>\n",
       "      <td>0</td>\n",
       "      <td>1</td>\n",
       "      <td>0</td>\n",
       "      <td>1</td>\n",
       "      <td>0</td>\n",
       "      <td>0</td>\n",
       "      <td>0</td>\n",
       "      <td>0</td>\n",
       "    </tr>\n",
       "  </tbody>\n",
       "</table>\n",
       "<p>5 rows × 31 columns</p>\n",
       "</div>"
      ],
      "text/plain": [
       "   age  time_in_hospital  num_lab_procedures  num_procedures  num_medications  \\\n",
       "0    0                 1                  41               0                1   \n",
       "1    0                 3                  59               0               18   \n",
       "2    1                 2                  11               5               13   \n",
       "3    1                 2                  44               1               16   \n",
       "4    2                 1                  51               0                8   \n",
       "\n",
       "   number_diagnoses  max_glu_serum  A1Cresult  metformin  repaglinide  ...  \\\n",
       "0                 1              1          1          0            0  ...   \n",
       "1                 9              1          1          0            0  ...   \n",
       "2                 6              1          1          0            0  ...   \n",
       "3                 7              1          1          0            0  ...   \n",
       "4                 5              1          1          0            0  ...   \n",
       "\n",
       "   readmitted  race_Caucasian  race_Other  gender_Male  \\\n",
       "0           0               1           0            0   \n",
       "1           0               1           0            0   \n",
       "2           0               0           0            0   \n",
       "3           0               1           0            1   \n",
       "4           0               1           0            1   \n",
       "\n",
       "   gender_Unknown/Invalid  admission_type_id_Emergency  \\\n",
       "0                       0                            0   \n",
       "1                       0                            1   \n",
       "2                       0                            1   \n",
       "3                       0                            1   \n",
       "4                       0                            1   \n",
       "\n",
       "   admission_type_id_Other  discharge_disposition_id_Other  \\\n",
       "0                        1                               0   \n",
       "1                        0                               0   \n",
       "2                        0                               0   \n",
       "3                        0                               0   \n",
       "4                        0                               0   \n",
       "\n",
       "   admission_source_id_Other  admission_source_id_Referral  \n",
       "0                          0                             1  \n",
       "1                          0                             0  \n",
       "2                          0                             0  \n",
       "3                          0                             0  \n",
       "4                          0                             0  \n",
       "\n",
       "[5 rows x 31 columns]"
      ]
     },
     "execution_count": 64,
     "metadata": {},
     "output_type": "execute_result"
    }
   ],
   "source": [
    "df.head()"
   ]
  },
  {
   "cell_type": "markdown",
   "id": "3e1ac143-f117-487b-b8a7-e7b1bde56256",
   "metadata": {},
   "source": [
    "---"
   ]
  },
  {
   "cell_type": "markdown",
   "id": "7ded7d95-0a9e-46e3-ae85-77dee85d51ae",
   "metadata": {},
   "source": [
    "#### Step-5 : Train-Test Split"
   ]
  },
  {
   "cell_type": "markdown",
   "id": "93864b14-9ba7-45ef-a1f2-16bf5a42ee64",
   "metadata": {},
   "source": [
    "> We split the data into 80-20 as we have a lot of imbalance in the data, we would be doing undersampling, so as to have enough data for train we take a 80 split for the train data and 20 split for the test data"
   ]
  },
  {
   "cell_type": "code",
   "execution_count": 65,
   "id": "98d93aa5-2a05-4ade-baba-4bfcc22d607d",
   "metadata": {
    "tags": []
   },
   "outputs": [
    {
     "name": "stdout",
     "output_type": "stream",
     "text": [
      "Training   :  (57190, 31)\n",
      "Validation :  (14298, 31)\n"
     ]
    }
   ],
   "source": [
    "# random_state is set to a defined value to get the same partitions when re-running the code\n",
    "train_data= df.sample(frac=0.8, random_state=1)\n",
    "# assign rows that are not already in the training set, into validation \n",
    "valid_data = df.drop(train_data.index)\n",
    "\n",
    "print('Training   : ', train_data.shape)\n",
    "print('Validation : ', valid_data.shape)"
   ]
  },
  {
   "cell_type": "code",
   "execution_count": 66,
   "id": "b4e37d05-62e1-48c2-95fb-e812d8839ce1",
   "metadata": {
    "tags": []
   },
   "outputs": [
    {
     "data": {
      "text/html": [
       "<div>\n",
       "<style scoped>\n",
       "    .dataframe tbody tr th:only-of-type {\n",
       "        vertical-align: middle;\n",
       "    }\n",
       "\n",
       "    .dataframe tbody tr th {\n",
       "        vertical-align: top;\n",
       "    }\n",
       "\n",
       "    .dataframe thead th {\n",
       "        text-align: right;\n",
       "    }\n",
       "</style>\n",
       "<table border=\"1\" class=\"dataframe\">\n",
       "  <thead>\n",
       "    <tr style=\"text-align: right;\">\n",
       "      <th></th>\n",
       "      <th>age</th>\n",
       "      <th>time_in_hospital</th>\n",
       "      <th>num_lab_procedures</th>\n",
       "      <th>num_procedures</th>\n",
       "      <th>num_medications</th>\n",
       "      <th>number_diagnoses</th>\n",
       "      <th>max_glu_serum</th>\n",
       "      <th>A1Cresult</th>\n",
       "      <th>metformin</th>\n",
       "      <th>repaglinide</th>\n",
       "      <th>...</th>\n",
       "      <th>readmitted</th>\n",
       "      <th>race_Caucasian</th>\n",
       "      <th>race_Other</th>\n",
       "      <th>gender_Male</th>\n",
       "      <th>gender_Unknown/Invalid</th>\n",
       "      <th>admission_type_id_Emergency</th>\n",
       "      <th>admission_type_id_Other</th>\n",
       "      <th>discharge_disposition_id_Other</th>\n",
       "      <th>admission_source_id_Other</th>\n",
       "      <th>admission_source_id_Referral</th>\n",
       "    </tr>\n",
       "  </thead>\n",
       "  <tbody>\n",
       "    <tr>\n",
       "      <th>44748</th>\n",
       "      <td>2</td>\n",
       "      <td>5</td>\n",
       "      <td>38</td>\n",
       "      <td>0</td>\n",
       "      <td>16</td>\n",
       "      <td>9</td>\n",
       "      <td>1</td>\n",
       "      <td>1</td>\n",
       "      <td>1</td>\n",
       "      <td>0</td>\n",
       "      <td>...</td>\n",
       "      <td>0</td>\n",
       "      <td>0</td>\n",
       "      <td>0</td>\n",
       "      <td>1</td>\n",
       "      <td>0</td>\n",
       "      <td>1</td>\n",
       "      <td>0</td>\n",
       "      <td>0</td>\n",
       "      <td>0</td>\n",
       "      <td>0</td>\n",
       "    </tr>\n",
       "    <tr>\n",
       "      <th>11187</th>\n",
       "      <td>2</td>\n",
       "      <td>2</td>\n",
       "      <td>34</td>\n",
       "      <td>3</td>\n",
       "      <td>8</td>\n",
       "      <td>6</td>\n",
       "      <td>1</td>\n",
       "      <td>1</td>\n",
       "      <td>0</td>\n",
       "      <td>0</td>\n",
       "      <td>...</td>\n",
       "      <td>0</td>\n",
       "      <td>0</td>\n",
       "      <td>0</td>\n",
       "      <td>1</td>\n",
       "      <td>0</td>\n",
       "      <td>1</td>\n",
       "      <td>0</td>\n",
       "      <td>0</td>\n",
       "      <td>0</td>\n",
       "      <td>0</td>\n",
       "    </tr>\n",
       "    <tr>\n",
       "      <th>45442</th>\n",
       "      <td>3</td>\n",
       "      <td>3</td>\n",
       "      <td>2</td>\n",
       "      <td>1</td>\n",
       "      <td>6</td>\n",
       "      <td>7</td>\n",
       "      <td>1</td>\n",
       "      <td>1</td>\n",
       "      <td>1</td>\n",
       "      <td>0</td>\n",
       "      <td>...</td>\n",
       "      <td>0</td>\n",
       "      <td>0</td>\n",
       "      <td>1</td>\n",
       "      <td>0</td>\n",
       "      <td>0</td>\n",
       "      <td>1</td>\n",
       "      <td>0</td>\n",
       "      <td>0</td>\n",
       "      <td>0</td>\n",
       "      <td>0</td>\n",
       "    </tr>\n",
       "    <tr>\n",
       "      <th>31492</th>\n",
       "      <td>2</td>\n",
       "      <td>6</td>\n",
       "      <td>31</td>\n",
       "      <td>0</td>\n",
       "      <td>17</td>\n",
       "      <td>5</td>\n",
       "      <td>1</td>\n",
       "      <td>1</td>\n",
       "      <td>1</td>\n",
       "      <td>0</td>\n",
       "      <td>...</td>\n",
       "      <td>0</td>\n",
       "      <td>1</td>\n",
       "      <td>0</td>\n",
       "      <td>0</td>\n",
       "      <td>0</td>\n",
       "      <td>1</td>\n",
       "      <td>0</td>\n",
       "      <td>0</td>\n",
       "      <td>1</td>\n",
       "      <td>0</td>\n",
       "    </tr>\n",
       "    <tr>\n",
       "      <th>96962</th>\n",
       "      <td>3</td>\n",
       "      <td>6</td>\n",
       "      <td>69</td>\n",
       "      <td>1</td>\n",
       "      <td>32</td>\n",
       "      <td>9</td>\n",
       "      <td>1</td>\n",
       "      <td>1</td>\n",
       "      <td>0</td>\n",
       "      <td>0</td>\n",
       "      <td>...</td>\n",
       "      <td>0</td>\n",
       "      <td>1</td>\n",
       "      <td>0</td>\n",
       "      <td>1</td>\n",
       "      <td>0</td>\n",
       "      <td>1</td>\n",
       "      <td>0</td>\n",
       "      <td>0</td>\n",
       "      <td>0</td>\n",
       "      <td>0</td>\n",
       "    </tr>\n",
       "  </tbody>\n",
       "</table>\n",
       "<p>5 rows × 31 columns</p>\n",
       "</div>"
      ],
      "text/plain": [
       "       age  time_in_hospital  num_lab_procedures  num_procedures  \\\n",
       "44748    2                 5                  38               0   \n",
       "11187    2                 2                  34               3   \n",
       "45442    3                 3                   2               1   \n",
       "31492    2                 6                  31               0   \n",
       "96962    3                 6                  69               1   \n",
       "\n",
       "       num_medications  number_diagnoses  max_glu_serum  A1Cresult  metformin  \\\n",
       "44748               16                 9              1          1          1   \n",
       "11187                8                 6              1          1          0   \n",
       "45442                6                 7              1          1          1   \n",
       "31492               17                 5              1          1          1   \n",
       "96962               32                 9              1          1          0   \n",
       "\n",
       "       repaglinide  ...  readmitted  race_Caucasian  race_Other  gender_Male  \\\n",
       "44748            0  ...           0               0           0            1   \n",
       "11187            0  ...           0               0           0            1   \n",
       "45442            0  ...           0               0           1            0   \n",
       "31492            0  ...           0               1           0            0   \n",
       "96962            0  ...           0               1           0            1   \n",
       "\n",
       "       gender_Unknown/Invalid  admission_type_id_Emergency  \\\n",
       "44748                       0                            1   \n",
       "11187                       0                            1   \n",
       "45442                       0                            1   \n",
       "31492                       0                            1   \n",
       "96962                       0                            1   \n",
       "\n",
       "       admission_type_id_Other  discharge_disposition_id_Other  \\\n",
       "44748                        0                               0   \n",
       "11187                        0                               0   \n",
       "45442                        0                               0   \n",
       "31492                        0                               0   \n",
       "96962                        0                               0   \n",
       "\n",
       "       admission_source_id_Other  admission_source_id_Referral  \n",
       "44748                          0                             0  \n",
       "11187                          0                             0  \n",
       "45442                          0                             0  \n",
       "31492                          1                             0  \n",
       "96962                          0                             0  \n",
       "\n",
       "[5 rows x 31 columns]"
      ]
     },
     "execution_count": 66,
     "metadata": {},
     "output_type": "execute_result"
    }
   ],
   "source": [
    "train_data.head()"
   ]
  },
  {
   "cell_type": "markdown",
   "id": "d87bfa4d-7855-4d72-9dc8-fcca47dec755",
   "metadata": {
    "tags": []
   },
   "source": [
    "---"
   ]
  },
  {
   "cell_type": "markdown",
   "id": "aab4bb4b-1fb5-4f29-b206-932d578ed235",
   "metadata": {},
   "source": [
    "#### Step-6 : Data Standardization"
   ]
  },
  {
   "cell_type": "code",
   "execution_count": 67,
   "id": "d8f95827-2bea-4fb5-812f-d0cebe4d65b4",
   "metadata": {
    "tags": []
   },
   "outputs": [],
   "source": [
    "columns_to_standardize = ['time_in_hospital', 'num_lab_procedures', 'num_procedures', 'num_medications', 'number_diagnoses']"
   ]
  },
  {
   "cell_type": "code",
   "execution_count": 68,
   "id": "46c7751a-74c0-4173-808b-833b8521840f",
   "metadata": {
    "tags": []
   },
   "outputs": [
    {
     "data": {
      "text/html": [
       "<div>\n",
       "<style scoped>\n",
       "    .dataframe tbody tr th:only-of-type {\n",
       "        vertical-align: middle;\n",
       "    }\n",
       "\n",
       "    .dataframe tbody tr th {\n",
       "        vertical-align: top;\n",
       "    }\n",
       "\n",
       "    .dataframe thead th {\n",
       "        text-align: right;\n",
       "    }\n",
       "</style>\n",
       "<table border=\"1\" class=\"dataframe\">\n",
       "  <thead>\n",
       "    <tr style=\"text-align: right;\">\n",
       "      <th></th>\n",
       "      <th>time_in_hospital</th>\n",
       "      <th>num_lab_procedures</th>\n",
       "      <th>num_procedures</th>\n",
       "      <th>num_medications</th>\n",
       "      <th>number_diagnoses</th>\n",
       "    </tr>\n",
       "  </thead>\n",
       "  <tbody>\n",
       "    <tr>\n",
       "      <th>count</th>\n",
       "      <td>71488.000000</td>\n",
       "      <td>71488.000000</td>\n",
       "      <td>71488.000000</td>\n",
       "      <td>71488.000000</td>\n",
       "      <td>71488.000000</td>\n",
       "    </tr>\n",
       "    <tr>\n",
       "      <th>mean</th>\n",
       "      <td>4.289097</td>\n",
       "      <td>43.073425</td>\n",
       "      <td>1.430156</td>\n",
       "      <td>15.705223</td>\n",
       "      <td>7.245496</td>\n",
       "    </tr>\n",
       "    <tr>\n",
       "      <th>std</th>\n",
       "      <td>2.949262</td>\n",
       "      <td>19.953728</td>\n",
       "      <td>1.759583</td>\n",
       "      <td>8.311210</td>\n",
       "      <td>1.994774</td>\n",
       "    </tr>\n",
       "    <tr>\n",
       "      <th>min</th>\n",
       "      <td>1.000000</td>\n",
       "      <td>1.000000</td>\n",
       "      <td>0.000000</td>\n",
       "      <td>1.000000</td>\n",
       "      <td>1.000000</td>\n",
       "    </tr>\n",
       "    <tr>\n",
       "      <th>25%</th>\n",
       "      <td>2.000000</td>\n",
       "      <td>31.000000</td>\n",
       "      <td>0.000000</td>\n",
       "      <td>10.000000</td>\n",
       "      <td>6.000000</td>\n",
       "    </tr>\n",
       "    <tr>\n",
       "      <th>50%</th>\n",
       "      <td>3.000000</td>\n",
       "      <td>44.000000</td>\n",
       "      <td>1.000000</td>\n",
       "      <td>14.000000</td>\n",
       "      <td>8.000000</td>\n",
       "    </tr>\n",
       "    <tr>\n",
       "      <th>75%</th>\n",
       "      <td>6.000000</td>\n",
       "      <td>57.000000</td>\n",
       "      <td>2.000000</td>\n",
       "      <td>20.000000</td>\n",
       "      <td>9.000000</td>\n",
       "    </tr>\n",
       "    <tr>\n",
       "      <th>max</th>\n",
       "      <td>14.000000</td>\n",
       "      <td>132.000000</td>\n",
       "      <td>6.000000</td>\n",
       "      <td>81.000000</td>\n",
       "      <td>16.000000</td>\n",
       "    </tr>\n",
       "  </tbody>\n",
       "</table>\n",
       "</div>"
      ],
      "text/plain": [
       "       time_in_hospital  num_lab_procedures  num_procedures  num_medications  \\\n",
       "count      71488.000000        71488.000000    71488.000000     71488.000000   \n",
       "mean           4.289097           43.073425        1.430156        15.705223   \n",
       "std            2.949262           19.953728        1.759583         8.311210   \n",
       "min            1.000000            1.000000        0.000000         1.000000   \n",
       "25%            2.000000           31.000000        0.000000        10.000000   \n",
       "50%            3.000000           44.000000        1.000000        14.000000   \n",
       "75%            6.000000           57.000000        2.000000        20.000000   \n",
       "max           14.000000          132.000000        6.000000        81.000000   \n",
       "\n",
       "       number_diagnoses  \n",
       "count      71488.000000  \n",
       "mean           7.245496  \n",
       "std            1.994774  \n",
       "min            1.000000  \n",
       "25%            6.000000  \n",
       "50%            8.000000  \n",
       "75%            9.000000  \n",
       "max           16.000000  "
      ]
     },
     "execution_count": 68,
     "metadata": {},
     "output_type": "execute_result"
    }
   ],
   "source": [
    "df[columns_to_standardize].describe()"
   ]
  },
  {
   "cell_type": "markdown",
   "id": "036dfbc5-5ca3-4a81-927d-4e3b5406215b",
   "metadata": {},
   "source": [
    ">As we see above, all the numerical data is in a different scale, hence we use standard scaler to standardize the data and bring them all into the same scale."
   ]
  },
  {
   "cell_type": "code",
   "execution_count": 69,
   "id": "34f80411-032f-48c9-81a2-d331e2a1b1e6",
   "metadata": {
    "tags": []
   },
   "outputs": [],
   "source": [
    "scaler = StandardScaler()\n",
    "\n",
    "train_data[columns_to_standardize] = scaler.fit_transform(train_data[columns_to_standardize])\n",
    "valid_data[columns_to_standardize] = scaler.fit_transform(valid_data[columns_to_standardize])"
   ]
  },
  {
   "cell_type": "code",
   "execution_count": 70,
   "id": "caa5880a-a76b-41dc-a4b8-7777985ffa61",
   "metadata": {
    "tags": []
   },
   "outputs": [
    {
     "data": {
      "text/html": [
       "<div>\n",
       "<style scoped>\n",
       "    .dataframe tbody tr th:only-of-type {\n",
       "        vertical-align: middle;\n",
       "    }\n",
       "\n",
       "    .dataframe tbody tr th {\n",
       "        vertical-align: top;\n",
       "    }\n",
       "\n",
       "    .dataframe thead th {\n",
       "        text-align: right;\n",
       "    }\n",
       "</style>\n",
       "<table border=\"1\" class=\"dataframe\">\n",
       "  <thead>\n",
       "    <tr style=\"text-align: right;\">\n",
       "      <th></th>\n",
       "      <th>age</th>\n",
       "      <th>time_in_hospital</th>\n",
       "      <th>num_lab_procedures</th>\n",
       "      <th>num_procedures</th>\n",
       "      <th>num_medications</th>\n",
       "      <th>number_diagnoses</th>\n",
       "      <th>max_glu_serum</th>\n",
       "      <th>A1Cresult</th>\n",
       "      <th>metformin</th>\n",
       "      <th>repaglinide</th>\n",
       "      <th>...</th>\n",
       "      <th>readmitted</th>\n",
       "      <th>race_Caucasian</th>\n",
       "      <th>race_Other</th>\n",
       "      <th>gender_Male</th>\n",
       "      <th>gender_Unknown/Invalid</th>\n",
       "      <th>admission_type_id_Emergency</th>\n",
       "      <th>admission_type_id_Other</th>\n",
       "      <th>discharge_disposition_id_Other</th>\n",
       "      <th>admission_source_id_Other</th>\n",
       "      <th>admission_source_id_Referral</th>\n",
       "    </tr>\n",
       "  </thead>\n",
       "  <tbody>\n",
       "    <tr>\n",
       "      <th>44748</th>\n",
       "      <td>2</td>\n",
       "      <td>0.241653</td>\n",
       "      <td>-0.255799</td>\n",
       "      <td>-0.812610</td>\n",
       "      <td>0.037538</td>\n",
       "      <td>0.879498</td>\n",
       "      <td>1</td>\n",
       "      <td>1</td>\n",
       "      <td>1</td>\n",
       "      <td>0</td>\n",
       "      <td>...</td>\n",
       "      <td>0</td>\n",
       "      <td>0</td>\n",
       "      <td>0</td>\n",
       "      <td>1</td>\n",
       "      <td>0</td>\n",
       "      <td>1</td>\n",
       "      <td>0</td>\n",
       "      <td>0</td>\n",
       "      <td>0</td>\n",
       "      <td>0</td>\n",
       "    </tr>\n",
       "    <tr>\n",
       "      <th>11187</th>\n",
       "      <td>2</td>\n",
       "      <td>-0.776204</td>\n",
       "      <td>-0.456624</td>\n",
       "      <td>0.898206</td>\n",
       "      <td>-0.925904</td>\n",
       "      <td>-0.622966</td>\n",
       "      <td>1</td>\n",
       "      <td>1</td>\n",
       "      <td>0</td>\n",
       "      <td>0</td>\n",
       "      <td>...</td>\n",
       "      <td>0</td>\n",
       "      <td>0</td>\n",
       "      <td>0</td>\n",
       "      <td>1</td>\n",
       "      <td>0</td>\n",
       "      <td>1</td>\n",
       "      <td>0</td>\n",
       "      <td>0</td>\n",
       "      <td>0</td>\n",
       "      <td>0</td>\n",
       "    </tr>\n",
       "    <tr>\n",
       "      <th>45442</th>\n",
       "      <td>3</td>\n",
       "      <td>-0.436918</td>\n",
       "      <td>-2.063225</td>\n",
       "      <td>-0.242338</td>\n",
       "      <td>-1.166765</td>\n",
       "      <td>-0.122145</td>\n",
       "      <td>1</td>\n",
       "      <td>1</td>\n",
       "      <td>1</td>\n",
       "      <td>0</td>\n",
       "      <td>...</td>\n",
       "      <td>0</td>\n",
       "      <td>0</td>\n",
       "      <td>1</td>\n",
       "      <td>0</td>\n",
       "      <td>0</td>\n",
       "      <td>1</td>\n",
       "      <td>0</td>\n",
       "      <td>0</td>\n",
       "      <td>0</td>\n",
       "      <td>0</td>\n",
       "    </tr>\n",
       "    <tr>\n",
       "      <th>31492</th>\n",
       "      <td>2</td>\n",
       "      <td>0.580938</td>\n",
       "      <td>-0.607243</td>\n",
       "      <td>-0.812610</td>\n",
       "      <td>0.157968</td>\n",
       "      <td>-1.123788</td>\n",
       "      <td>1</td>\n",
       "      <td>1</td>\n",
       "      <td>1</td>\n",
       "      <td>0</td>\n",
       "      <td>...</td>\n",
       "      <td>0</td>\n",
       "      <td>1</td>\n",
       "      <td>0</td>\n",
       "      <td>0</td>\n",
       "      <td>0</td>\n",
       "      <td>1</td>\n",
       "      <td>0</td>\n",
       "      <td>0</td>\n",
       "      <td>1</td>\n",
       "      <td>0</td>\n",
       "    </tr>\n",
       "    <tr>\n",
       "      <th>96962</th>\n",
       "      <td>3</td>\n",
       "      <td>0.580938</td>\n",
       "      <td>1.300595</td>\n",
       "      <td>-0.242338</td>\n",
       "      <td>1.964422</td>\n",
       "      <td>0.879498</td>\n",
       "      <td>1</td>\n",
       "      <td>1</td>\n",
       "      <td>0</td>\n",
       "      <td>0</td>\n",
       "      <td>...</td>\n",
       "      <td>0</td>\n",
       "      <td>1</td>\n",
       "      <td>0</td>\n",
       "      <td>1</td>\n",
       "      <td>0</td>\n",
       "      <td>1</td>\n",
       "      <td>0</td>\n",
       "      <td>0</td>\n",
       "      <td>0</td>\n",
       "      <td>0</td>\n",
       "    </tr>\n",
       "  </tbody>\n",
       "</table>\n",
       "<p>5 rows × 31 columns</p>\n",
       "</div>"
      ],
      "text/plain": [
       "       age  time_in_hospital  num_lab_procedures  num_procedures  \\\n",
       "44748    2          0.241653           -0.255799       -0.812610   \n",
       "11187    2         -0.776204           -0.456624        0.898206   \n",
       "45442    3         -0.436918           -2.063225       -0.242338   \n",
       "31492    2          0.580938           -0.607243       -0.812610   \n",
       "96962    3          0.580938            1.300595       -0.242338   \n",
       "\n",
       "       num_medications  number_diagnoses  max_glu_serum  A1Cresult  metformin  \\\n",
       "44748         0.037538          0.879498              1          1          1   \n",
       "11187        -0.925904         -0.622966              1          1          0   \n",
       "45442        -1.166765         -0.122145              1          1          1   \n",
       "31492         0.157968         -1.123788              1          1          1   \n",
       "96962         1.964422          0.879498              1          1          0   \n",
       "\n",
       "       repaglinide  ...  readmitted  race_Caucasian  race_Other  gender_Male  \\\n",
       "44748            0  ...           0               0           0            1   \n",
       "11187            0  ...           0               0           0            1   \n",
       "45442            0  ...           0               0           1            0   \n",
       "31492            0  ...           0               1           0            0   \n",
       "96962            0  ...           0               1           0            1   \n",
       "\n",
       "       gender_Unknown/Invalid  admission_type_id_Emergency  \\\n",
       "44748                       0                            1   \n",
       "11187                       0                            1   \n",
       "45442                       0                            1   \n",
       "31492                       0                            1   \n",
       "96962                       0                            1   \n",
       "\n",
       "       admission_type_id_Other  discharge_disposition_id_Other  \\\n",
       "44748                        0                               0   \n",
       "11187                        0                               0   \n",
       "45442                        0                               0   \n",
       "31492                        0                               0   \n",
       "96962                        0                               0   \n",
       "\n",
       "       admission_source_id_Other  admission_source_id_Referral  \n",
       "44748                          0                             0  \n",
       "11187                          0                             0  \n",
       "45442                          0                             0  \n",
       "31492                          1                             0  \n",
       "96962                          0                             0  \n",
       "\n",
       "[5 rows x 31 columns]"
      ]
     },
     "execution_count": 70,
     "metadata": {},
     "output_type": "execute_result"
    }
   ],
   "source": [
    "train_data.head()"
   ]
  },
  {
   "cell_type": "code",
   "execution_count": 71,
   "id": "3fabd51a-d5ca-4108-a7cf-b847a7b0c874",
   "metadata": {
    "tags": []
   },
   "outputs": [
    {
     "data": {
      "text/html": [
       "<div>\n",
       "<style scoped>\n",
       "    .dataframe tbody tr th:only-of-type {\n",
       "        vertical-align: middle;\n",
       "    }\n",
       "\n",
       "    .dataframe tbody tr th {\n",
       "        vertical-align: top;\n",
       "    }\n",
       "\n",
       "    .dataframe thead th {\n",
       "        text-align: right;\n",
       "    }\n",
       "</style>\n",
       "<table border=\"1\" class=\"dataframe\">\n",
       "  <thead>\n",
       "    <tr style=\"text-align: right;\">\n",
       "      <th></th>\n",
       "      <th>age</th>\n",
       "      <th>time_in_hospital</th>\n",
       "      <th>num_lab_procedures</th>\n",
       "      <th>num_procedures</th>\n",
       "      <th>num_medications</th>\n",
       "      <th>number_diagnoses</th>\n",
       "      <th>max_glu_serum</th>\n",
       "      <th>A1Cresult</th>\n",
       "      <th>metformin</th>\n",
       "      <th>repaglinide</th>\n",
       "      <th>...</th>\n",
       "      <th>readmitted</th>\n",
       "      <th>race_Caucasian</th>\n",
       "      <th>race_Other</th>\n",
       "      <th>gender_Male</th>\n",
       "      <th>gender_Unknown/Invalid</th>\n",
       "      <th>admission_type_id_Emergency</th>\n",
       "      <th>admission_type_id_Other</th>\n",
       "      <th>discharge_disposition_id_Other</th>\n",
       "      <th>admission_source_id_Other</th>\n",
       "      <th>admission_source_id_Referral</th>\n",
       "    </tr>\n",
       "  </thead>\n",
       "  <tbody>\n",
       "    <tr>\n",
       "      <th>1</th>\n",
       "      <td>0</td>\n",
       "      <td>-0.437801</td>\n",
       "      <td>0.796822</td>\n",
       "      <td>-0.813642</td>\n",
       "      <td>0.267002</td>\n",
       "      <td>0.879806</td>\n",
       "      <td>1</td>\n",
       "      <td>1</td>\n",
       "      <td>0</td>\n",
       "      <td>0</td>\n",
       "      <td>...</td>\n",
       "      <td>0</td>\n",
       "      <td>1</td>\n",
       "      <td>0</td>\n",
       "      <td>0</td>\n",
       "      <td>0</td>\n",
       "      <td>1</td>\n",
       "      <td>0</td>\n",
       "      <td>0</td>\n",
       "      <td>0</td>\n",
       "      <td>0</td>\n",
       "    </tr>\n",
       "    <tr>\n",
       "      <th>9</th>\n",
       "      <td>4</td>\n",
       "      <td>2.606131</td>\n",
       "      <td>-0.496984</td>\n",
       "      <td>0.868628</td>\n",
       "      <td>0.267002</td>\n",
       "      <td>0.376507</td>\n",
       "      <td>1</td>\n",
       "      <td>1</td>\n",
       "      <td>0</td>\n",
       "      <td>0</td>\n",
       "      <td>...</td>\n",
       "      <td>0</td>\n",
       "      <td>1</td>\n",
       "      <td>0</td>\n",
       "      <td>0</td>\n",
       "      <td>0</td>\n",
       "      <td>0</td>\n",
       "      <td>0</td>\n",
       "      <td>1</td>\n",
       "      <td>1</td>\n",
       "      <td>0</td>\n",
       "    </tr>\n",
       "    <tr>\n",
       "      <th>15</th>\n",
       "      <td>3</td>\n",
       "      <td>2.606131</td>\n",
       "      <td>1.593010</td>\n",
       "      <td>1.990141</td>\n",
       "      <td>-0.332439</td>\n",
       "      <td>0.879806</td>\n",
       "      <td>1</td>\n",
       "      <td>1</td>\n",
       "      <td>0</td>\n",
       "      <td>0</td>\n",
       "      <td>...</td>\n",
       "      <td>0</td>\n",
       "      <td>0</td>\n",
       "      <td>0</td>\n",
       "      <td>1</td>\n",
       "      <td>0</td>\n",
       "      <td>1</td>\n",
       "      <td>0</td>\n",
       "      <td>1</td>\n",
       "      <td>0</td>\n",
       "      <td>0</td>\n",
       "    </tr>\n",
       "    <tr>\n",
       "      <th>18</th>\n",
       "      <td>3</td>\n",
       "      <td>0.238628</td>\n",
       "      <td>-0.397461</td>\n",
       "      <td>1.990141</td>\n",
       "      <td>0.866443</td>\n",
       "      <td>0.879806</td>\n",
       "      <td>1</td>\n",
       "      <td>1</td>\n",
       "      <td>0</td>\n",
       "      <td>0</td>\n",
       "      <td>...</td>\n",
       "      <td>0</td>\n",
       "      <td>0</td>\n",
       "      <td>0</td>\n",
       "      <td>1</td>\n",
       "      <td>0</td>\n",
       "      <td>1</td>\n",
       "      <td>0</td>\n",
       "      <td>0</td>\n",
       "      <td>0</td>\n",
       "      <td>0</td>\n",
       "    </tr>\n",
       "    <tr>\n",
       "      <th>27</th>\n",
       "      <td>2</td>\n",
       "      <td>-0.776015</td>\n",
       "      <td>-0.895078</td>\n",
       "      <td>0.307871</td>\n",
       "      <td>-0.572215</td>\n",
       "      <td>-2.139991</td>\n",
       "      <td>1</td>\n",
       "      <td>1</td>\n",
       "      <td>0</td>\n",
       "      <td>0</td>\n",
       "      <td>...</td>\n",
       "      <td>0</td>\n",
       "      <td>1</td>\n",
       "      <td>0</td>\n",
       "      <td>0</td>\n",
       "      <td>0</td>\n",
       "      <td>1</td>\n",
       "      <td>0</td>\n",
       "      <td>0</td>\n",
       "      <td>0</td>\n",
       "      <td>1</td>\n",
       "    </tr>\n",
       "  </tbody>\n",
       "</table>\n",
       "<p>5 rows × 31 columns</p>\n",
       "</div>"
      ],
      "text/plain": [
       "    age  time_in_hospital  num_lab_procedures  num_procedures  \\\n",
       "1     0         -0.437801            0.796822       -0.813642   \n",
       "9     4          2.606131           -0.496984        0.868628   \n",
       "15    3          2.606131            1.593010        1.990141   \n",
       "18    3          0.238628           -0.397461        1.990141   \n",
       "27    2         -0.776015           -0.895078        0.307871   \n",
       "\n",
       "    num_medications  number_diagnoses  max_glu_serum  A1Cresult  metformin  \\\n",
       "1          0.267002          0.879806              1          1          0   \n",
       "9          0.267002          0.376507              1          1          0   \n",
       "15        -0.332439          0.879806              1          1          0   \n",
       "18         0.866443          0.879806              1          1          0   \n",
       "27        -0.572215         -2.139991              1          1          0   \n",
       "\n",
       "    repaglinide  ...  readmitted  race_Caucasian  race_Other  gender_Male  \\\n",
       "1             0  ...           0               1           0            0   \n",
       "9             0  ...           0               1           0            0   \n",
       "15            0  ...           0               0           0            1   \n",
       "18            0  ...           0               0           0            1   \n",
       "27            0  ...           0               1           0            0   \n",
       "\n",
       "    gender_Unknown/Invalid  admission_type_id_Emergency  \\\n",
       "1                        0                            1   \n",
       "9                        0                            0   \n",
       "15                       0                            1   \n",
       "18                       0                            1   \n",
       "27                       0                            1   \n",
       "\n",
       "    admission_type_id_Other  discharge_disposition_id_Other  \\\n",
       "1                         0                               0   \n",
       "9                         0                               1   \n",
       "15                        0                               1   \n",
       "18                        0                               0   \n",
       "27                        0                               0   \n",
       "\n",
       "    admission_source_id_Other  admission_source_id_Referral  \n",
       "1                           0                             0  \n",
       "9                           1                             0  \n",
       "15                          0                             0  \n",
       "18                          0                             0  \n",
       "27                          0                             1  \n",
       "\n",
       "[5 rows x 31 columns]"
      ]
     },
     "execution_count": 71,
     "metadata": {},
     "output_type": "execute_result"
    }
   ],
   "source": [
    "valid_data.head()"
   ]
  },
  {
   "cell_type": "markdown",
   "id": "e19792a7-7e25-4668-8e20-a0d04e2509d2",
   "metadata": {},
   "source": [
    "---"
   ]
  },
  {
   "cell_type": "markdown",
   "id": "22666973-ae09-425e-ac10-b0fa9a3f37f2",
   "metadata": {},
   "source": [
    "#### Step-7: Saving the train and test data"
   ]
  },
  {
   "cell_type": "code",
   "execution_count": 72,
   "id": "28d685c8-df2b-4340-81ae-7f99ce3dde71",
   "metadata": {
    "tags": []
   },
   "outputs": [],
   "source": [
    "train_data.to_csv('train_data.csv')"
   ]
  },
  {
   "cell_type": "code",
   "execution_count": 73,
   "id": "57e229d6-2f38-4c29-8a8b-ed24ae639890",
   "metadata": {
    "tags": []
   },
   "outputs": [],
   "source": [
    "valid_data.to_csv('valid_data.csv')"
   ]
  }
 ],
 "metadata": {
  "kernelspec": {
   "display_name": "Python 3 (ipykernel)",
   "language": "python",
   "name": "python3"
  },
  "language_info": {
   "codemirror_mode": {
    "name": "ipython",
    "version": 3
   },
   "file_extension": ".py",
   "mimetype": "text/x-python",
   "name": "python",
   "nbconvert_exporter": "python",
   "pygments_lexer": "ipython3",
   "version": "3.11.4"
  }
 },
 "nbformat": 4,
 "nbformat_minor": 5
}
